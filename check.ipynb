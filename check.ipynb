{
 "cells": [
  {
   "cell_type": "code",
   "execution_count": 1,
   "metadata": {},
   "outputs": [
    {
     "name": "stdout",
     "output_type": "stream",
     "text": [
      "0.0 0.625\n",
      "0.0 0.625\n",
      "0.625 nan\n"
     ]
    },
    {
     "ename": "OverflowError",
     "evalue": "Range exceeds valid bounds",
     "output_type": "error",
     "traceback": [
      "\u001b[0;31m---------------------------------------------------------------------------\u001b[0m",
      "\u001b[0;31mOverflowError\u001b[0m                             Traceback (most recent call last)",
      "Cell \u001b[0;32mIn[1], line 27\u001b[0m\n\u001b[1;32m     25\u001b[0m ht \u001b[39m=\u001b[39m HyperTransformer()\n\u001b[1;32m     26\u001b[0m ht\u001b[39m.\u001b[39mdetect_initial_config(data)\n\u001b[0;32m---> 27\u001b[0m ht\u001b[39m.\u001b[39;49mfit(data)\n\u001b[1;32m     28\u001b[0m transformed \u001b[39m=\u001b[39m ht\u001b[39m.\u001b[39mtransform(data)\n\u001b[1;32m     29\u001b[0m reverse_transformed \u001b[39m=\u001b[39m ht\u001b[39m.\u001b[39mreverse_transform(transformed)\n",
      "File \u001b[0;32m~/Desktop/RDT/rdt/hyper_transformer.py:607\u001b[0m, in \u001b[0;36mHyperTransformer.fit\u001b[0;34m(self, data)\u001b[0m\n\u001b[1;32m    605\u001b[0m \u001b[39mself\u001b[39m\u001b[39m.\u001b[39m_input_columns \u001b[39m=\u001b[39m \u001b[39mlist\u001b[39m(data\u001b[39m.\u001b[39mcolumns)\n\u001b[1;32m    606\u001b[0m \u001b[39mfor\u001b[39;00m field \u001b[39min\u001b[39;00m \u001b[39mself\u001b[39m\u001b[39m.\u001b[39m_input_columns:\n\u001b[0;32m--> 607\u001b[0m     data \u001b[39m=\u001b[39m \u001b[39mself\u001b[39;49m\u001b[39m.\u001b[39;49m_fit_field_transformer(data, field, \u001b[39mself\u001b[39;49m\u001b[39m.\u001b[39;49mfield_transformers[field])\n\u001b[1;32m    609\u001b[0m \u001b[39mself\u001b[39m\u001b[39m.\u001b[39m_validate_all_fields_fitted()\n\u001b[1;32m    610\u001b[0m \u001b[39mself\u001b[39m\u001b[39m.\u001b[39m_fitted \u001b[39m=\u001b[39m \u001b[39mTrue\u001b[39;00m\n",
      "File \u001b[0;32m~/Desktop/RDT/rdt/hyper_transformer.py:546\u001b[0m, in \u001b[0;36mHyperTransformer._fit_field_transformer\u001b[0;34m(self, data, field, transformer)\u001b[0m\n\u001b[1;32m    544\u001b[0m transformer\u001b[39m.\u001b[39mfit(data, field)\n\u001b[1;32m    545\u001b[0m \u001b[39mself\u001b[39m\u001b[39m.\u001b[39m_transformers_sequence\u001b[39m.\u001b[39mappend(transformer)\n\u001b[0;32m--> 546\u001b[0m data \u001b[39m=\u001b[39m transformer\u001b[39m.\u001b[39;49mtransform(data)\n\u001b[1;32m    548\u001b[0m output_columns \u001b[39m=\u001b[39m transformer\u001b[39m.\u001b[39mget_output_columns()\n\u001b[1;32m    549\u001b[0m next_transformers \u001b[39m=\u001b[39m transformer\u001b[39m.\u001b[39mget_next_transformers()\n",
      "File \u001b[0;32m~/Desktop/RDT/rdt/transformers/base.py:55\u001b[0m, in \u001b[0;36mrandom_state.<locals>.wrapper\u001b[0;34m(self, *args, **kwargs)\u001b[0m\n\u001b[1;32m     53\u001b[0m method_name \u001b[39m=\u001b[39m function\u001b[39m.\u001b[39m\u001b[39m__name__\u001b[39m\n\u001b[1;32m     54\u001b[0m \u001b[39mwith\u001b[39;00m set_random_states(\u001b[39mself\u001b[39m\u001b[39m.\u001b[39mrandom_states, method_name, \u001b[39mself\u001b[39m\u001b[39m.\u001b[39mset_random_state):\n\u001b[0;32m---> 55\u001b[0m     \u001b[39mreturn\u001b[39;00m function(\u001b[39mself\u001b[39;49m, \u001b[39m*\u001b[39;49margs, \u001b[39m*\u001b[39;49m\u001b[39m*\u001b[39;49mkwargs)\n",
      "File \u001b[0;32m~/Desktop/RDT/rdt/transformers/base.py:420\u001b[0m, in \u001b[0;36mBaseTransformer.transform\u001b[0;34m(self, data)\u001b[0m\n\u001b[1;32m    418\u001b[0m data \u001b[39m=\u001b[39m data\u001b[39m.\u001b[39mcopy()\n\u001b[1;32m    419\u001b[0m columns_data \u001b[39m=\u001b[39m \u001b[39mself\u001b[39m\u001b[39m.\u001b[39m_get_columns_data(data, \u001b[39mself\u001b[39m\u001b[39m.\u001b[39mcolumns)\n\u001b[0;32m--> 420\u001b[0m transformed_data \u001b[39m=\u001b[39m \u001b[39mself\u001b[39;49m\u001b[39m.\u001b[39;49m_transform(columns_data)\n\u001b[1;32m    421\u001b[0m data \u001b[39m=\u001b[39m data\u001b[39m.\u001b[39mdrop(\u001b[39mself\u001b[39m\u001b[39m.\u001b[39mcolumns, axis\u001b[39m=\u001b[39m\u001b[39m1\u001b[39m)\n\u001b[1;32m    422\u001b[0m data \u001b[39m=\u001b[39m \u001b[39mself\u001b[39m\u001b[39m.\u001b[39m_add_columns_to_data(data, transformed_data, \u001b[39mself\u001b[39m\u001b[39m.\u001b[39moutput_columns)\n",
      "File \u001b[0;32m~/Desktop/RDT/rdt/transformers/categorical.py:167\u001b[0m, in \u001b[0;36mUniformEncoder._transform\u001b[0;34m(self, data)\u001b[0m\n\u001b[1;32m    164\u001b[0m     \u001b[39mprint\u001b[39m(\u001b[39mself\u001b[39m\u001b[39m.\u001b[39mintervals[label][\u001b[39m0\u001b[39m], \u001b[39mself\u001b[39m\u001b[39m.\u001b[39mintervals[label][\u001b[39m1\u001b[39m])\n\u001b[1;32m    165\u001b[0m     \u001b[39mreturn\u001b[39;00m np\u001b[39m.\u001b[39mrandom\u001b[39m.\u001b[39muniform(\u001b[39mself\u001b[39m\u001b[39m.\u001b[39mintervals[label][\u001b[39m0\u001b[39m], \u001b[39mself\u001b[39m\u001b[39m.\u001b[39mintervals[label][\u001b[39m1\u001b[39m])\n\u001b[0;32m--> 167\u001b[0m \u001b[39mreturn\u001b[39;00m data_with_none\u001b[39m.\u001b[39;49mmap(map_labels)\u001b[39m.\u001b[39mastype(\u001b[39mfloat\u001b[39m)\n",
      "File \u001b[0;32m~/miniconda3/envs/rdt_38/lib/python3.8/site-packages/pandas/core/series.py:3970\u001b[0m, in \u001b[0;36mSeries.map\u001b[0;34m(self, arg, na_action)\u001b[0m\n\u001b[1;32m   3895\u001b[0m \u001b[39mdef\u001b[39;00m \u001b[39mmap\u001b[39m(\u001b[39mself\u001b[39m, arg, na_action\u001b[39m=\u001b[39m\u001b[39mNone\u001b[39;00m) \u001b[39m-\u001b[39m\u001b[39m>\u001b[39m \u001b[39m\"\u001b[39m\u001b[39mSeries\u001b[39m\u001b[39m\"\u001b[39m:\n\u001b[1;32m   3896\u001b[0m \u001b[39m    \u001b[39m\u001b[39m\"\"\"\u001b[39;00m\n\u001b[1;32m   3897\u001b[0m \u001b[39m    Map values of Series according to input correspondence.\u001b[39;00m\n\u001b[1;32m   3898\u001b[0m \n\u001b[0;32m   (...)\u001b[0m\n\u001b[1;32m   3968\u001b[0m \u001b[39m    dtype: object\u001b[39;00m\n\u001b[1;32m   3969\u001b[0m \u001b[39m    \"\"\"\u001b[39;00m\n\u001b[0;32m-> 3970\u001b[0m     new_values \u001b[39m=\u001b[39m \u001b[39msuper\u001b[39;49m()\u001b[39m.\u001b[39;49m_map_values(arg, na_action\u001b[39m=\u001b[39;49mna_action)\n\u001b[1;32m   3971\u001b[0m     \u001b[39mreturn\u001b[39;00m \u001b[39mself\u001b[39m\u001b[39m.\u001b[39m_constructor(new_values, index\u001b[39m=\u001b[39m\u001b[39mself\u001b[39m\u001b[39m.\u001b[39mindex)\u001b[39m.\u001b[39m__finalize__(\n\u001b[1;32m   3972\u001b[0m         \u001b[39mself\u001b[39m, method\u001b[39m=\u001b[39m\u001b[39m\"\u001b[39m\u001b[39mmap\u001b[39m\u001b[39m\"\u001b[39m\n\u001b[1;32m   3973\u001b[0m     )\n",
      "File \u001b[0;32m~/miniconda3/envs/rdt_38/lib/python3.8/site-packages/pandas/core/base.py:1160\u001b[0m, in \u001b[0;36mIndexOpsMixin._map_values\u001b[0;34m(self, mapper, na_action)\u001b[0m\n\u001b[1;32m   1157\u001b[0m         \u001b[39mraise\u001b[39;00m \u001b[39mValueError\u001b[39;00m(msg)\n\u001b[1;32m   1159\u001b[0m \u001b[39m# mapper is a function\u001b[39;00m\n\u001b[0;32m-> 1160\u001b[0m new_values \u001b[39m=\u001b[39m map_f(values, mapper)\n\u001b[1;32m   1162\u001b[0m \u001b[39mreturn\u001b[39;00m new_values\n",
      "File \u001b[0;32mpandas/_libs/lib.pyx:2402\u001b[0m, in \u001b[0;36mpandas._libs.lib.map_infer\u001b[0;34m()\u001b[0m\n",
      "File \u001b[0;32m~/Desktop/RDT/rdt/transformers/categorical.py:165\u001b[0m, in \u001b[0;36mUniformEncoder._transform.<locals>.map_labels\u001b[0;34m(label)\u001b[0m\n\u001b[1;32m    163\u001b[0m \u001b[39mdef\u001b[39;00m \u001b[39mmap_labels\u001b[39m(label):\n\u001b[1;32m    164\u001b[0m     \u001b[39mprint\u001b[39m(\u001b[39mself\u001b[39m\u001b[39m.\u001b[39mintervals[label][\u001b[39m0\u001b[39m], \u001b[39mself\u001b[39m\u001b[39m.\u001b[39mintervals[label][\u001b[39m1\u001b[39m])\n\u001b[0;32m--> 165\u001b[0m     \u001b[39mreturn\u001b[39;00m np\u001b[39m.\u001b[39;49mrandom\u001b[39m.\u001b[39;49muniform(\u001b[39mself\u001b[39;49m\u001b[39m.\u001b[39;49mintervals[label][\u001b[39m0\u001b[39;49m], \u001b[39mself\u001b[39;49m\u001b[39m.\u001b[39;49mintervals[label][\u001b[39m1\u001b[39;49m])\n",
      "File \u001b[0;32mmtrand.pyx:1110\u001b[0m, in \u001b[0;36mnumpy.random.mtrand.RandomState.uniform\u001b[0;34m()\u001b[0m\n",
      "\u001b[0;31mOverflowError\u001b[0m: Range exceeds valid bounds"
     ]
    }
   ],
   "source": [
    "import pandas as pd\n",
    "import numpy as np\n",
    "from rdt import HyperTransformer\n",
    "TEST_DATA_INDEX = [4, 6, 3, 8, 'a', 1.0, 2.0, 3.0]\n",
    "datetimes = pd.to_datetime([\n",
    "    np.nan,\n",
    "    '2010-02-01',\n",
    "    '2010-01-01',\n",
    "    '2010-01-01',\n",
    "    '2010-01-01',\n",
    "    '2010-02-01',\n",
    "    '2010-01-01',\n",
    "    '2010-01-01',\n",
    "])\n",
    "data = pd.DataFrame({\n",
    "    'integer': [1, 2, 1, 3, 1, 4, 2, 3],\n",
    "    'float': [0.1, 0.2, 0.1, np.nan, 0.1, 0.4, np.nan, 0.3],\n",
    "    'categorical': ['a', 'a', np.nan, 'b', 'a', 'b', 'a', 'a'],\n",
    "    'bool': [False, np.nan, False, True, False, np.nan, True, False],\n",
    "    'datetime': datetimes,\n",
    "    'names': ['Jon', 'Arya', 'Arya', 'Jon', 'Jon', 'Sansa', 'Jon', 'Jon'],\n",
    "}, index=TEST_DATA_INDEX)\n",
    "\n",
    "# Run\n",
    "ht = HyperTransformer()\n",
    "ht.detect_initial_config(data)\n",
    "ht.fit(data)\n",
    "transformed = ht.transform(data)\n",
    "reverse_transformed = ht.reverse_transform(transformed)\n",
    "\n",
    "# Assert\n",
    "expected_datetimes = [\n",
    "    1.263069e+18,\n",
    "    1.264982e+18,\n",
    "    1.262304e+18,\n",
    "    1.262304e+18,\n",
    "    1.262304e+18,\n",
    "    1.264982e+18,\n",
    "    1.262304e+18,\n",
    "    1.262304e+18\n",
    "]\n",
    "expected_transformed = pd.DataFrame({\n",
    "    'integer': [1., 2., 1., 3., 1., 4., 2., 3.],\n",
    "    'float': [0.1, 0.2, 0.1, 0.2, 0.1, 0.4, 0.2, 0.3],\n",
    "    'categorical': [\n",
    "        0.6056724228102, 0.551035999670618, 0.6415811931779333, 0.9497122229547376,\n",
    "        0.5791232599393884, 0.9713636500947356, 0.5800536682210967, 0.3183267452542666\n",
    "    ],\n",
    "    'bool': [\n",
    "        0.13080626592394468, 0.6433871161873272, 0.013336903148287393, 0.7993073999936193,\n",
    "        0.4430320785278661, 0.5835819683962835, 0.7772353030710347, 0.3091326939224907\n",
    "    ],\n",
    "    'datetime': expected_datetimes,\n",
    "    'names': [\n",
    "        0.15112620775650704, 0.857444679914493, 0.7654375186193025, 0.42569016008650984,\n",
    "        0.30010761543029285, 0.9108473448910603, 0.15922866807030298, 0.3875325513134956\n",
    "    ]\n",
    "}, index=TEST_DATA_INDEX)\n",
    "pd.testing.assert_frame_equal(transformed, expected_transformed)\n",
    "\n",
    "reversed_datetimes = pd.to_datetime([\n",
    "    '2010-01-09',\n",
    "    '2010-02-01',\n",
    "    '2010-01-01',\n",
    "    '2010-01-01',\n",
    "    '2010-01-01',\n",
    "    '2010-02-01',\n",
    "    '2010-01-01',\n",
    "    '2010-01-01',\n",
    "])\n",
    "expected_reversed = pd.DataFrame({\n",
    "    'integer': [1, 2, 1, 3, 1, 4, 2, 3],\n",
    "    'float': [0.1, 0.2, 0.1, 0.20000000000000004, 0.1, 0.4, 0.20000000000000004, 0.3],\n",
    "    'categorical': ['a', 'a', np.nan, 'b', 'a', 'b', 'a', 'a'],\n",
    "    'bool': [False, False, False, True, False, False, True, False],\n",
    "    'datetime': reversed_datetimes,\n",
    "    'names': ['Jon', 'Arya', 'Arya', 'Jon', 'Jon', 'Sansa', 'Jon', 'Jon'],\n",
    "}, index=TEST_DATA_INDEX)\n",
    "for row in range(reverse_transformed.shape[0]):\n",
    "    for column in range(reverse_transformed.shape[1]):\n",
    "        expected = expected_reversed.iloc[row, column]\n",
    "        actual = reverse_transformed.iloc[row, column]\n",
    "        assert pd.isna(actual) or expected == actual\n",
    "\n",
    "assert isinstance(ht.field_transformers['integer'], FloatFormatter)\n",
    "assert isinstance(ht.field_transformers['float'], FloatFormatter)\n",
    "assert isinstance(ht.field_transformers['categorical'], UniformEncoder)\n",
    "assert isinstance(ht.field_transformers['bool'], UniformEncoder)\n",
    "assert isinstance(ht.field_transformers['datetime'], UnixTimestampEncoder)\n",
    "assert isinstance(ht.field_transformers['names'], UniformEncoder)\n",
    "\n",
    "get_default_transformers.cache_clear()\n",
    "get_default_transformer.cache_clear()"
   ]
  },
  {
   "cell_type": "code",
   "execution_count": 7,
   "metadata": {},
   "outputs": [
    {
     "name": "stdout",
     "output_type": "stream",
     "text": [
      "3    0.333333\n",
      "2    0.333333\n",
      "1    0.333333\n",
      "dtype: float64\n"
     ]
    }
   ],
   "source": [
    "import pandas as pd\n",
    "import numpy as np\n",
    "data = pd.Series([1, 2, 3])\n",
    "print(data.value_counts(normalize=True, dropna=False))"
   ]
  },
  {
   "cell_type": "code",
   "execution_count": 9,
   "metadata": {},
   "outputs": [
    {
     "data": {
      "text/plain": [
       "1    0.333333\n",
       "2    0.333333\n",
       "3    0.333333\n",
       "dtype: float64"
      ]
     },
     "execution_count": 9,
     "metadata": {},
     "output_type": "execute_result"
    }
   ],
   "source": [
    "t = data.value_counts(normalize=True, dropna=False)\n",
    "t.reindex([1, 2, 3], fill_value=None)\n"
   ]
  },
  {
   "cell_type": "code",
   "execution_count": 1,
   "metadata": {},
   "outputs": [
    {
     "data": {
      "text/plain": [
       "1.0    0.285714\n",
       "2.0    0.285714\n",
       "NaN    0.285714\n",
       "3.0    0.142857\n",
       "Name: proportion, dtype: float64"
      ]
     },
     "execution_count": 1,
     "metadata": {},
     "output_type": "execute_result"
    }
   ],
   "source": [
    "import pandas as pd\n",
    "data = pd.Series([1, 2, 3, None, None, 1, 2 ])\n",
    "print(data.value_counts(normalize=True, dropna=False))\n"
   ]
  },
  {
   "cell_type": "code",
   "execution_count": 4,
   "metadata": {},
   "outputs": [
    {
     "data": {
      "text/plain": [
       "a    category\n",
       "dtype: object"
      ]
     },
     "execution_count": 4,
     "metadata": {},
     "output_type": "execute_result"
    }
   ],
   "source": [
    "transformed.dtypes"
   ]
  },
  {
   "cell_type": "code",
   "execution_count": 6,
   "metadata": {},
   "outputs": [],
   "source": [
    "r = ht.get_config()\n",
    "t = r['transformers']['categorical']"
   ]
  },
  {
   "cell_type": "code",
   "execution_count": 8,
   "metadata": {},
   "outputs": [
    {
     "data": {
      "text/plain": [
       "{'a': [0.0, 0.625], None: [0.625, nan], 'b': [nan, 1.0]}"
      ]
     },
     "execution_count": 8,
     "metadata": {},
     "output_type": "execute_result"
    }
   ],
   "source": [
    "t.intervals"
   ]
  },
  {
   "cell_type": "code",
   "execution_count": 1,
   "metadata": {},
   "outputs": [
    {
     "name": "stderr",
     "output_type": "stream",
     "text": [
      "/Users/romain_datacebo/Desktop/RDT/rdt/transformers/base.py:187: FutureWarning: ``get_input_sdtype`` is deprecated. Please use ``get_supported_sdtypes`` instead.\n",
      "  warnings.warn(\n"
     ]
    },
    {
     "data": {
      "text/plain": [
       "['categorical', 'boolean']"
      ]
     },
     "execution_count": 1,
     "metadata": {},
     "output_type": "execute_result"
    }
   ],
   "source": [
    "from rdt.transformers import UniformEncoder\n",
    "\n",
    "transformer = UniformEncoder()\n",
    "transformer.get_input_sdtype()"
   ]
  },
  {
   "cell_type": "code",
   "execution_count": 1,
   "metadata": {},
   "outputs": [
    {
     "name": "stdout",
     "output_type": "stream",
     "text": [
      "['rdt.transformers.base.BaseMultiColumnTransformer', 'rdt.transformers.boolean.BinaryEncoder', 'rdt.transformers.categorical.UniformEncoder', 'rdt.transformers.categorical.OrderedUniformEncoder', 'rdt.transformers.categorical.FrequencyEncoder', 'rdt.transformers.categorical.OneHotEncoder', 'rdt.transformers.categorical.LabelEncoder', 'rdt.transformers.categorical.OrderedLabelEncoder', 'rdt.transformers.categorical.CustomLabelEncoder', 'rdt.transformers.datetime.UnixTimestampEncoder', 'rdt.transformers.datetime.OptimizedTimestampEncoder', 'rdt.transformers.numerical.FloatFormatter', 'rdt.transformers.numerical.GaussianNormalizer', 'rdt.transformers.numerical.ClusterBasedNormalizer', 'rdt.transformers.pii.anonymizer.AnonymizedFaker', 'rdt.transformers.pii.anonymizer.PseudoAnonymizedFaker', 'rdt.transformers.text.IDGenerator', 'rdt.transformers.text.RegexGenerator', 'rdt.transformers.addons.identity.identity.IdentityTransformer']\n"
     ]
    }
   ],
   "source": [
    "from rdt.transformers import TRANSFORMERS\n",
    "print(list(TRANSFORMERS.keys()))"
   ]
  },
  {
   "cell_type": "code",
   "execution_count": 5,
   "metadata": {},
   "outputs": [
    {
     "data": {
      "text/plain": [
       "PosixPath('/Users/romain_datacebo/Desktop/RDT/tests/unit/transformers/test_base.py')"
      ]
     },
     "execution_count": 5,
     "metadata": {},
     "output_type": "execute_result"
    }
   ],
   "source": [
    "test_file"
   ]
  },
  {
   "cell_type": "code",
   "execution_count": 6,
   "metadata": {},
   "outputs": [
    {
     "data": {
      "text/plain": [
       "<module 'rdt.transformers.test_base' from '/Users/romain_datacebo/Desktop/RDT/tests/unit/transformers/test_base.py'>"
      ]
     },
     "execution_count": 6,
     "metadata": {},
     "output_type": "execute_result"
    }
   ],
   "source": [
    "module"
   ]
  },
  {
   "cell_type": "code",
   "execution_count": 7,
   "metadata": {},
   "outputs": [
    {
     "data": {
      "text/plain": [
       "'BaseMultiColumnTransformer'"
      ]
     },
     "execution_count": 7,
     "metadata": {},
     "output_type": "execute_result"
    }
   ],
   "source": [
    "transformer.get_name()"
   ]
  },
  {
   "cell_type": "code",
   "execution_count": 4,
   "metadata": {},
   "outputs": [
    {
     "ename": "AssertionError",
     "evalue": "The expected test class was not found.",
     "output_type": "error",
     "traceback": [
      "\u001b[0;31m---------------------------------------------------------------------------\u001b[0m",
      "\u001b[0;31mAssertionError\u001b[0m                            Traceback (most recent call last)",
      "Cell \u001b[0;32mIn[4], line 8\u001b[0m\n\u001b[1;32m      5\u001b[0m module \u001b[39m=\u001b[39m _load_module_from_path(test_file)\n\u001b[1;32m      7\u001b[0m test_class \u001b[39m=\u001b[39m \u001b[39mgetattr\u001b[39m(module, \u001b[39mf\u001b[39m\u001b[39m'\u001b[39m\u001b[39mTest\u001b[39m\u001b[39m{\u001b[39;00mtransformer\u001b[39m.\u001b[39mget_name()\u001b[39m}\u001b[39;00m\u001b[39m'\u001b[39m, \u001b[39mNone\u001b[39;00m)\n\u001b[0;32m----> 8\u001b[0m \u001b[39massert\u001b[39;00m test_class \u001b[39mis\u001b[39;00m \u001b[39mnot\u001b[39;00m \u001b[39mNone\u001b[39;00m, \u001b[39m'\u001b[39m\u001b[39mThe expected test class was not found.\u001b[39m\u001b[39m'\u001b[39m\n",
      "\u001b[0;31mAssertionError\u001b[0m: The expected test class was not found."
     ]
    }
   ],
   "source": [
    "from tests.code_style import get_test_location, _load_module_from_path\n",
    "from rdt.transformers import BaseMultiColumnTransformer\n",
    "transformer = BaseMultiColumnTransformer\n",
    "test_file = get_test_location(transformer)\n",
    "module = _load_module_from_path(test_file)\n",
    "\n",
    "test_class = getattr(module, f'Test{transformer.get_name()}', None)\n",
    "assert test_class is not None, 'The expected test class was not found.'"
   ]
  },
  {
   "cell_type": "code",
   "execution_count": 1,
   "metadata": {},
   "outputs": [
    {
     "name": "stdout",
     "output_type": "stream",
     "text": [
      "{\n",
      "    \"sdtypes\": {\n",
      "        \"col_1\": \"numerical\",\n",
      "        \"col_2\": \"numerical\",\n",
      "        \"col_3\": \"categorical\",\n",
      "        \"col_4\": \"boolean\"\n",
      "    },\n",
      "    \"transformers\": {\n",
      "        \"col_1\": FloatFormatter(),\n",
      "        \"col_2\": FloatFormatter(),\n",
      "        \"col_3\": UniformEncoder(),\n",
      "        \"col_4\": UniformEncoder()\n",
      "    }\n",
      "}\n"
     ]
    }
   ],
   "source": [
    "from rdt import HyperTransformer\n",
    "from rdt.transformers import AnonymizedFaker\n",
    "\n",
    "import pandas as pd\n",
    "\n",
    "ht = HyperTransformer()\n",
    "data_test = pd.DataFrame({\n",
    "    'col_1': [1, 2, 3, 4, 5],\n",
    "    'col_2': [1, 2, 3, 4, 5],\n",
    "    'col_3': ['1', '2', '3', '4', '5'],\n",
    "    'col_4': [True, False, True, False, True],\n",
    "})\n",
    "ht.detect_initial_config(data_test)\n",
    "print(ht.get_config())\n",
    "\n"
   ]
  },
  {
   "cell_type": "code",
   "execution_count": 7,
   "metadata": {},
   "outputs": [
    {
     "data": {
      "text/plain": [
       "{'col_1': ('col_1', 'col_2'), 'col_2': ('col_1', 'col_2')}"
      ]
     },
     "execution_count": 7,
     "metadata": {},
     "output_type": "execute_result"
    }
   ],
   "source": [
    "ht._multi_column_fields"
   ]
  },
  {
   "cell_type": "code",
   "execution_count": 6,
   "metadata": {},
   "outputs": [],
   "source": [
    "ht._multi_column_fields = ht._get_multi_column_fields()"
   ]
  },
  {
   "cell_type": "code",
   "execution_count": 2,
   "metadata": {},
   "outputs": [
    {
     "name": "stdout",
     "output_type": "stream",
     "text": [
      "{\n",
      "    \"sdtypes\": {\n",
      "        \"col_1\": \"numerical\",\n",
      "        \"col_2\": \"numerical\",\n",
      "        \"col_3\": \"categorical\",\n",
      "        \"col_4\": \"boolean\"\n",
      "    },\n",
      "    \"transformers\": {\n",
      "        \"col_3\": UniformEncoder(),\n",
      "        \"col_4\": UniformEncoder(),\n",
      "        \"('col_1', 'col_2')\": None\n",
      "    }\n",
      "}\n"
     ]
    }
   ],
   "source": [
    "ht.update_transformers(\n",
    "    column_name_to_transformer={\n",
    "        ('col_1', 'col_2'): None\n",
    "    }\n",
    ")\n",
    "print(ht.get_config())"
   ]
  },
  {
   "cell_type": "code",
   "execution_count": 20,
   "metadata": {},
   "outputs": [
    {
     "ename": "InvalidConfigError",
     "evalue": "Invalid transformers for columns: [('A', 'B', 'C')]. Please assign an rdt transformer instance to each column name.",
     "output_type": "error",
     "traceback": [
      "\u001b[0;31m---------------------------------------------------------------------------\u001b[0m",
      "\u001b[0;31mInvalidConfigError\u001b[0m                        Traceback (most recent call last)",
      "Cell \u001b[0;32mIn[20], line 15\u001b[0m\n\u001b[1;32m     13\u001b[0m config \u001b[39m=\u001b[39m Config(dict_config)\n\u001b[1;32m     14\u001b[0m ht \u001b[39m=\u001b[39m HyperTransformer()\n\u001b[0;32m---> 15\u001b[0m ht\u001b[39m.\u001b[39;49mset_config(config)\n",
      "File \u001b[0;32m~/Desktop/RDT/rdt/hyper_transformer.py:271\u001b[0m, in \u001b[0;36mHyperTransformer.set_config\u001b[0;34m(self, config)\u001b[0m\n\u001b[1;32m    259\u001b[0m \u001b[39mdef\u001b[39;00m \u001b[39mset_config\u001b[39m(\u001b[39mself\u001b[39m, config):\n\u001b[1;32m    260\u001b[0m \u001b[39m    \u001b[39m\u001b[39m\"\"\"Set the ``HyperTransformer`` configuration.\u001b[39;00m\n\u001b[1;32m    261\u001b[0m \n\u001b[1;32m    262\u001b[0m \u001b[39m    This method will only update the sdtypes/transformers passed. Other previously\u001b[39;00m\n\u001b[0;32m   (...)\u001b[0m\n\u001b[1;32m    269\u001b[0m \u001b[39m            - transformers: A dictionary mapping column names to their transformer instances.\u001b[39;00m\n\u001b[1;32m    270\u001b[0m \u001b[39m    \"\"\"\u001b[39;00m\n\u001b[0;32m--> 271\u001b[0m     \u001b[39mself\u001b[39;49m\u001b[39m.\u001b[39;49m_validate_config(config)\n\u001b[1;32m    272\u001b[0m     \u001b[39mself\u001b[39m\u001b[39m.\u001b[39mfield_sdtypes\u001b[39m.\u001b[39mupdate(config[\u001b[39m'\u001b[39m\u001b[39msdtypes\u001b[39m\u001b[39m'\u001b[39m])\n\u001b[1;32m    273\u001b[0m     \u001b[39mself\u001b[39m\u001b[39m.\u001b[39mfield_transformers\u001b[39m.\u001b[39mupdate(config[\u001b[39m'\u001b[39m\u001b[39mtransformers\u001b[39m\u001b[39m'\u001b[39m])\n",
      "File \u001b[0;32m~/Desktop/RDT/rdt/hyper_transformer.py:233\u001b[0m, in \u001b[0;36mHyperTransformer._validate_config\u001b[0;34m(config)\u001b[0m\n\u001b[1;32m    227\u001b[0m     \u001b[39mraise\u001b[39;00m InvalidConfigError(\n\u001b[1;32m    228\u001b[0m         \u001b[39m\"\u001b[39m\u001b[39mThe column names in the \u001b[39m\u001b[39m'\u001b[39m\u001b[39msdtypes\u001b[39m\u001b[39m'\u001b[39m\u001b[39m dictionary must match the \u001b[39m\u001b[39m\"\u001b[39m\n\u001b[1;32m    229\u001b[0m         \u001b[39m\"\u001b[39m\u001b[39mcolumn names in the \u001b[39m\u001b[39m'\u001b[39m\u001b[39mtransformers\u001b[39m\u001b[39m'\u001b[39m\u001b[39m dictionary.\u001b[39m\u001b[39m\"\u001b[39m\n\u001b[1;32m    230\u001b[0m     )\n\u001b[1;32m    232\u001b[0m HyperTransformer\u001b[39m.\u001b[39m_validate_sdtypes(sdtypes)\n\u001b[0;32m--> 233\u001b[0m HyperTransformer\u001b[39m.\u001b[39;49m_validate_transformers(transformers)\n\u001b[1;32m    235\u001b[0m mismatched_columns \u001b[39m=\u001b[39m []\n\u001b[1;32m    236\u001b[0m \u001b[39mfor\u001b[39;00m column_name, transformer \u001b[39min\u001b[39;00m transformers\u001b[39m.\u001b[39mitems():\n",
      "File \u001b[0;32m~/Desktop/RDT/rdt/hyper_transformer.py:175\u001b[0m, in \u001b[0;36mHyperTransformer._validate_transformers\u001b[0;34m(column_name_to_transformer)\u001b[0m\n\u001b[1;32m    172\u001b[0m         invalid_transformers_columns\u001b[39m.\u001b[39mappend(column_name)\n\u001b[1;32m    174\u001b[0m \u001b[39mif\u001b[39;00m invalid_transformers_columns:\n\u001b[0;32m--> 175\u001b[0m     \u001b[39mraise\u001b[39;00m InvalidConfigError(\n\u001b[1;32m    176\u001b[0m         \u001b[39mf\u001b[39m\u001b[39m'\u001b[39m\u001b[39mInvalid transformers for columns: \u001b[39m\u001b[39m{\u001b[39;00minvalid_transformers_columns\u001b[39m}\u001b[39;00m\u001b[39m. \u001b[39m\u001b[39m'\u001b[39m\n\u001b[1;32m    177\u001b[0m         \u001b[39m'\u001b[39m\u001b[39mPlease assign an rdt transformer instance to each column name.\u001b[39m\u001b[39m'\u001b[39m\n\u001b[1;32m    178\u001b[0m     )\n",
      "\u001b[0;31mInvalidConfigError\u001b[0m: Invalid transformers for columns: [('A', 'B', 'C')]. Please assign an rdt transformer instance to each column name."
     ]
    }
   ],
   "source": [
    "from rdt.hyper_transformer import Config, HyperTransformer\n",
    "from rdt.transformers import UniformEncoder, BaseMultiColumnTransformer\n",
    "dict_config = {\n",
    "    'sdtypes': {\n",
    "        'A': 'categorical',\n",
    "        'B': 'categorical',\n",
    "        'C': 'categorical'\n",
    "  },\n",
    "  'transformers': {\n",
    "    ('A', 'B', 'C'): BaseMultiColumnTransformer,\n",
    "  }\n",
    "}\n",
    "config = Config(dict_config)\n",
    "ht = HyperTransformer()\n",
    "ht.set_config(config)"
   ]
  },
  {
   "cell_type": "code",
   "execution_count": 1,
   "metadata": {},
   "outputs": [],
   "source": [
    "from rdt.hyper_transformer import Config, HyperTransformer\n",
    "from rdt.transformers import UniformEncoder\n",
    "dict_config = {\n",
    "    'sdtypes': {\n",
    "        'A': 'categorical',\n",
    "        'B': 'categorical',\n",
    "        'C': 'boolean',\n",
    "        'D': 'categorical',\n",
    "        'E': 'categorical' \n",
    "},\n",
    "'transformers': {\n",
    "    'A': UniformEncoder(),\n",
    "    ('B', 'C', 'D'): None,\n",
    "    'E': UniformEncoder()\n",
    "}\n",
    "}\n",
    "\n",
    "config = Config(dict_config)\n",
    "ht = HyperTransformer()\n",
    "ht.set_config(config)\n",
    "\n",
    "# Run\n",
    "ht.update_transformers({\n",
    "    ('A', 'B'): None,\n",
    "    'D': UniformEncoder()\n",
    "})\n",
    "new_config = ht.get_config()"
   ]
  },
  {
   "cell_type": "code",
   "execution_count": 2,
   "metadata": {},
   "outputs": [
    {
     "data": {
      "text/plain": [
       "{\n",
       "    \"sdtypes\": {\n",
       "        \"A\": \"categorical\",\n",
       "        \"B\": \"categorical\",\n",
       "        \"C\": \"boolean\",\n",
       "        \"D\": \"categorical\",\n",
       "        \"E\": \"categorical\"\n",
       "    },\n",
       "    \"transformers\": {\n",
       "        \"E\": UniformEncoder(),\n",
       "        \"('A', 'B')\": None,\n",
       "        \"C\": None,\n",
       "        \"D\": UniformEncoder()\n",
       "    }\n",
       "}"
      ]
     },
     "execution_count": 2,
     "metadata": {},
     "output_type": "execute_result"
    }
   ],
   "source": [
    "new_config"
   ]
  },
  {
   "cell_type": "code",
   "execution_count": 3,
   "metadata": {},
   "outputs": [
    {
     "data": {
      "text/plain": [
       "{\n",
       "    \"sdtypes\": {\n",
       "        \"A\": \"categorical\",\n",
       "        \"B\": \"categorical\",\n",
       "        \"C\": \"categorical\"\n",
       "    },\n",
       "    \"transformers\": {\n",
       "        \"('A', 'B', 'C')\": None\n",
       "    }\n",
       "}"
      ]
     },
     "execution_count": 3,
     "metadata": {},
     "output_type": "execute_result"
    }
   ],
   "source": [
    "ht.get_config()"
   ]
  },
  {
   "cell_type": "code",
   "execution_count": 3,
   "metadata": {},
   "outputs": [],
   "source": [
    "# Setup\n",
    "dict_config = {\n",
    "    'sdtypes': {\n",
    "        'A': 'categorical',\n",
    "        'B': 'categorical',\n",
    "        'C': 'boolean',\n",
    "        'D': 'categorical',\n",
    "        'E': 'categorical' \n",
    "},\n",
    "'transformers': {\n",
    "    'A': UniformEncoder(),\n",
    "    ('B', 'C', 'D'): None,\n",
    "    'E': UniformEncoder()\n",
    "}\n",
    "}\n",
    "\n",
    "config = Config(dict_config)\n",
    "ht = HyperTransformer()\n",
    "ht.set_config(config)\n",
    "\n",
    "# Run\n",
    "ht.update_transformers_by_sdtype('boolean', transformer_name='LabelEncoder' )\n",
    "new_config = ht.get_config()\n",
    "\n",
    "# Assert\n",
    "expected_config = Config({\n",
    "    \"sdtypes\": {\n",
    "        \"A\": \"categorical\",\n",
    "        \"B\": \"categorical\",\n",
    "        \"C\": \"boolean\",\n",
    "        \"D\": \"categorical\",\n",
    "        \"E\": \"categorical\"\n",
    "    },\n",
    "    \"transformers\": {\n",
    "        \"A\": UniformEncoder(),\n",
    "        \"E\": UniformEncoder(),\n",
    "        \"C\": LabelEncoder(),\n",
    "        \"('B', 'D')\": None\n",
    "    }\n",
    "})\n",
    "\n",
    "assert new_config == expected_config\n",
    "    "
   ]
  },
  {
   "cell_type": "code",
   "execution_count": 4,
   "metadata": {},
   "outputs": [
    {
     "data": {
      "text/plain": [
       "{\n",
       "    \"sdtypes\": {\n",
       "        \"A\": \"categorical\",\n",
       "        \"B\": \"categorical\",\n",
       "        \"C\": \"boolean\",\n",
       "        \"D\": \"categorical\",\n",
       "        \"E\": \"categorical\"\n",
       "    },\n",
       "    \"transformers\": {\n",
       "        \"A\": UniformEncoder(),\n",
       "        \"E\": UniformEncoder(),\n",
       "        \"C\": LabelEncoder(),\n",
       "        \"('B', 'D')\": None\n",
       "    }\n",
       "}"
      ]
     },
     "execution_count": 4,
     "metadata": {},
     "output_type": "execute_result"
    }
   ],
   "source": [
    "new_config"
   ]
  },
  {
   "cell_type": "code",
   "execution_count": null,
   "metadata": {},
   "outputs": [],
   "source": [
    "# Assert\n",
    "expected_config = Config({\n",
    "    \"sdtypes\": {\n",
    "        \"A\": \"categorical\",\n",
    "        \"B\": \"categorical\",\n",
    "        \"C\": \"boolean\",\n",
    "        \"D\": \"categorical\",\n",
    "        \"E\": \"categorical\"\n",
    "    },\n",
    "    \"transformers\": {\n",
    "        \"A\": UniformEncoder(),\n",
    "        \"E\": UniformEncoder(),\n",
    "        \"C\": LabelEncoder(),\n",
    "        \"('B', 'D')\": None\n",
    "    }\n",
    "})\n",
    "\n",
    "assert repr(new_config) == repr(expected_config)"
   ]
  },
  {
   "cell_type": "code",
   "execution_count": 4,
   "metadata": {},
   "outputs": [
    {
     "data": {
      "text/plain": [
       "{\n",
       "    \"sdtypes\": {\n",
       "        \"A\": \"categorical\",\n",
       "        \"B\": \"categorical\",\n",
       "        \"C\": \"categorical\"\n",
       "    },\n",
       "    \"transformers\": {\n",
       "        \"A\": UniformEncoder(),\n",
       "        \"C\": None,\n",
       "        \"B\": UniformEncoder()\n",
       "    }\n",
       "}"
      ]
     },
     "execution_count": 4,
     "metadata": {},
     "output_type": "execute_result"
    }
   ],
   "source": [
    "ht.update_transformers({\n",
    "    'A': UniformEncoder(),\n",
    "    'B': UniformEncoder()})\n",
    "ht.get_config()"
   ]
  },
  {
   "cell_type": "code",
   "execution_count": 2,
   "metadata": {},
   "outputs": [
    {
     "name": "stdout",
     "output_type": "stream",
     "text": [
      "{\n",
      "    \"sdtypes\": {\n",
      "        \"A\": \"categorical\",\n",
      "        \"B\": \"categorical\",\n",
      "        \"C\": \"boolean\"\n",
      "    },\n",
      "    \"transformers\": {\n",
      "        \"A\": None,\n",
      "        \"B\": UniformEncoder(),\n",
      "        \"C\": UniformEncoder()\n",
      "    }\n",
      "}\n"
     ]
    },
    {
     "data": {
      "text/plain": [
       "{\n",
       "    \"sdtypes\": {\n",
       "        \"A\": \"categorical\",\n",
       "        \"B\": \"categorical\",\n",
       "        \"C\": \"boolean\"\n",
       "    },\n",
       "    \"transformers\": {\n",
       "        \"C\": UniformEncoder(),\n",
       "        \"('A', 'B')\": None\n",
       "    }\n",
       "}"
      ]
     },
     "execution_count": 2,
     "metadata": {},
     "output_type": "execute_result"
    }
   ],
   "source": [
    "from rdt.hyper_transformer import Config, HyperTransformer\n",
    "from rdt.transformers import UniformEncoder\n",
    "dict_config = {\n",
    "    'sdtypes': {\n",
    "        'A': 'categorical',\n",
    "        'B': 'categorical',\n",
    "        'C': 'boolean'\n",
    "  },\n",
    "  'transformers': {\n",
    "    'A': None,\n",
    "    'B': UniformEncoder(),\n",
    "    'C': UniformEncoder()\n",
    "  }\n",
    "}\n",
    "config = Config(dict_config)\n",
    "ht = HyperTransformer()\n",
    "ht.set_config(config)\n",
    "print(ht.get_config())\n",
    "ht.update_transformers({\n",
    "    ('A', 'B'): None,\n",
    "  })\n",
    "ht.get_config()\n"
   ]
  },
  {
   "cell_type": "code",
   "execution_count": 25,
   "metadata": {},
   "outputs": [
    {
     "ename": "KeyError",
     "evalue": "\"('A', 'B')\"",
     "output_type": "error",
     "traceback": [
      "\u001b[0;31m---------------------------------------------------------------------------\u001b[0m",
      "\u001b[0;31mKeyError\u001b[0m                                  Traceback (most recent call last)",
      "Cell \u001b[0;32mIn[25], line 36\u001b[0m\n\u001b[1;32m     24\u001b[0m expected_config \u001b[39m=\u001b[39m Config({\n\u001b[1;32m     25\u001b[0m     \u001b[39m'\u001b[39m\u001b[39msdtypes\u001b[39m\u001b[39m'\u001b[39m: {\n\u001b[1;32m     26\u001b[0m         \u001b[39m'\u001b[39m\u001b[39mA\u001b[39m\u001b[39m'\u001b[39m: \u001b[39m'\u001b[39m\u001b[39mcategorical\u001b[39m\u001b[39m'\u001b[39m,\n\u001b[0;32m   (...)\u001b[0m\n\u001b[1;32m     33\u001b[0m }\n\u001b[1;32m     34\u001b[0m })\n\u001b[1;32m     35\u001b[0m \u001b[39massert\u001b[39;00m \u001b[39mdict\u001b[39m(new_config[\u001b[39m'\u001b[39m\u001b[39msdtypes\u001b[39m\u001b[39m'\u001b[39m]) \u001b[39m==\u001b[39m \u001b[39mdict\u001b[39m(expected_config[\u001b[39m'\u001b[39m\u001b[39msdtypes\u001b[39m\u001b[39m'\u001b[39m])\n\u001b[0;32m---> 36\u001b[0m \u001b[39massert\u001b[39;00m \u001b[39mdict\u001b[39m(new_config[\u001b[39m\"\u001b[39;49m\u001b[39m(\u001b[39;49m\u001b[39m'\u001b[39;49m\u001b[39mA\u001b[39;49m\u001b[39m'\u001b[39;49m\u001b[39m, \u001b[39;49m\u001b[39m'\u001b[39;49m\u001b[39mB\u001b[39;49m\u001b[39m'\u001b[39;49m\u001b[39m)\u001b[39;49m\u001b[39m\"\u001b[39;49m]) \u001b[39m==\u001b[39m \u001b[39mdict\u001b[39m(expected_config[\u001b[39m\"\u001b[39m\u001b[39m(\u001b[39m\u001b[39m'\u001b[39m\u001b[39mA\u001b[39m\u001b[39m'\u001b[39m\u001b[39m, \u001b[39m\u001b[39m'\u001b[39m\u001b[39mB\u001b[39m\u001b[39m'\u001b[39m\u001b[39m)\u001b[39m\u001b[39m\"\u001b[39m])\n",
      "\u001b[0;31mKeyError\u001b[0m: \"('A', 'B')\""
     ]
    }
   ],
   "source": [
    "dict_config = {\n",
    "    'sdtypes': {\n",
    "        'A': 'categorical',\n",
    "        'B': 'categorical',\n",
    "        'C': 'boolean'\n",
    "},\n",
    "'transformers': {\n",
    "    'A': None,\n",
    "    'B': UniformEncoder(),\n",
    "    'C': UniformEncoder()\n",
    "}\n",
    "}\n",
    "config = Config(dict_config)\n",
    "ht = HyperTransformer()\n",
    "ht.set_config(config)\n",
    "\n",
    "# Run\n",
    "ht.update_transformers({\n",
    "    ('A', 'B'): None,\n",
    "})\n",
    "new_config = ht.get_config()\n",
    "\n",
    "# Assert\n",
    "expected_config = Config({\n",
    "    'sdtypes': {\n",
    "        'A': 'categorical',\n",
    "        'B': 'categorical',\n",
    "        'C': 'boolean'\n",
    "    },\n",
    "'transformers': {\n",
    "    'C': UniformEncoder(),\n",
    "    ('A', 'B'): None\n",
    "}\n",
    "})\n",
    "assert dict(new_config['sdtypes']) == dict(expected_config['sdtypes'])\n",
    "assert dict(new_config[\"('A', 'B')\"]) == dict(expected_config[\"('A', 'B')\"])"
   ]
  },
  {
   "cell_type": "code",
   "execution_count": 26,
   "metadata": {},
   "outputs": [],
   "source": [
    "assert repr(new_config) == repr(expected_config)"
   ]
  },
  {
   "cell_type": "code",
   "execution_count": 18,
   "metadata": {},
   "outputs": [
    {
     "data": {
      "text/plain": [
       "{\n",
       "    \"sdtypes\": {\n",
       "        \"A\": \"categorical\",\n",
       "        \"B\": \"categorical\",\n",
       "        \"C\": \"boolean\"\n",
       "    },\n",
       "    \"transformers\": {\n",
       "        \"C\": UniformEncoder(),\n",
       "        \"('A', 'B')\": None\n",
       "    }\n",
       "}"
      ]
     },
     "execution_count": 18,
     "metadata": {},
     "output_type": "execute_result"
    }
   ],
   "source": [
    "expected_config"
   ]
  },
  {
   "cell_type": "code",
   "execution_count": 19,
   "metadata": {},
   "outputs": [
    {
     "data": {
      "text/plain": [
       "{'sdtypes': {'A': 'categorical', 'B': 'categorical', 'C': 'boolean'},\n",
       " 'transformers': {'C': UniformEncoder(), ('A', 'B'): None}}"
      ]
     },
     "execution_count": 19,
     "metadata": {},
     "output_type": "execute_result"
    }
   ],
   "source": [
    "dict(new_config)"
   ]
  },
  {
   "cell_type": "code",
   "execution_count": 21,
   "metadata": {},
   "outputs": [
    {
     "data": {
      "text/plain": [
       "False"
      ]
     },
     "execution_count": 21,
     "metadata": {},
     "output_type": "execute_result"
    }
   ],
   "source": [
    "dict(expected_config) == dict(new_config)"
   ]
  },
  {
   "cell_type": "code",
   "execution_count": 22,
   "metadata": {},
   "outputs": [
    {
     "data": {
      "text/plain": [
       "{'sdtypes': {'A': 'categorical', 'B': 'categorical', 'C': 'boolean'},\n",
       " 'transformers': {'C': UniformEncoder(), ('A', 'B'): None}}"
      ]
     },
     "execution_count": 22,
     "metadata": {},
     "output_type": "execute_result"
    }
   ],
   "source": [
    "dict(expected_config)"
   ]
  },
  {
   "cell_type": "code",
   "execution_count": 9,
   "metadata": {},
   "outputs": [
    {
     "ename": "AssertionError",
     "evalue": "",
     "output_type": "error",
     "traceback": [
      "\u001b[0;31m---------------------------------------------------------------------------\u001b[0m",
      "\u001b[0;31mAssertionError\u001b[0m                            Traceback (most recent call last)",
      "Cell \u001b[0;32mIn[9], line 1\u001b[0m\n\u001b[0;32m----> 1\u001b[0m \u001b[39massert\u001b[39;00m \u001b[39mdict\u001b[39m(new_config) \u001b[39m==\u001b[39m \u001b[39mdict\u001b[39m(expected_config)\n",
      "\u001b[0;31mAssertionError\u001b[0m: "
     ]
    }
   ],
   "source": [
    "assert dict(new_config) == dict(expected_config)"
   ]
  },
  {
   "cell_type": "code",
   "execution_count": 7,
   "metadata": {},
   "outputs": [
    {
     "data": {
      "text/plain": [
       "{\n",
       "    \"sdtypes\": {\n",
       "        \"A\": \"categorical\",\n",
       "        \"B\": \"categorical\",\n",
       "        \"C\": \"boolean\"\n",
       "    },\n",
       "    \"transformers\": {\n",
       "        \"C\": UniformEncoder(),\n",
       "        \"('A', 'B')\": None\n",
       "    }\n",
       "}"
      ]
     },
     "execution_count": 7,
     "metadata": {},
     "output_type": "execute_result"
    }
   ],
   "source": [
    "new_config"
   ]
  },
  {
   "cell_type": "code",
   "execution_count": 8,
   "metadata": {},
   "outputs": [
    {
     "data": {
      "text/plain": [
       "{\n",
       "    \"sdtypes\": {\n",
       "        \"A\": \"categorical\",\n",
       "        \"B\": \"categorical\",\n",
       "        \"C\": \"boolean\"\n",
       "    },\n",
       "    \"transformers\": {\n",
       "        \"C\": UniformEncoder(),\n",
       "        \"('A', 'B')\": None\n",
       "    }\n",
       "}"
      ]
     },
     "execution_count": 8,
     "metadata": {},
     "output_type": "execute_result"
    }
   ],
   "source": [
    "expected_config"
   ]
  },
  {
   "cell_type": "code",
   "execution_count": 14,
   "metadata": {},
   "outputs": [
    {
     "name": "stdout",
     "output_type": "stream",
     "text": [
      "{\n",
      "    \"sdtypes\": {\n",
      "        \"A\": \"categorical\",\n",
      "        \"B\": \"categorical\",\n",
      "        \"C\": \"boolean\",\n",
      "        \"D\": \"numerical\"\n",
      "    },\n",
      "    \"transformers\": {\n",
      "        \"A\": None,\n",
      "        \"B\": UniformEncoder(),\n",
      "        \"C\": UniformEncoder(),\n",
      "        \"D\": FloatFormatter()\n",
      "    }\n",
      "}\n"
     ]
    },
    {
     "data": {
      "text/plain": [
       "{\n",
       "    \"sdtypes\": {\n",
       "        \"A\": \"categorical\",\n",
       "        \"B\": \"categorical\",\n",
       "        \"C\": \"boolean\",\n",
       "        \"D\": \"numerical\"\n",
       "    },\n",
       "    \"transformers\": {\n",
       "        \"B\": UniformEncoder(),\n",
       "        \"C\": UniformEncoder(),\n",
       "        \"('A', 'D')\": None\n",
       "    }\n",
       "}"
      ]
     },
     "execution_count": 14,
     "metadata": {},
     "output_type": "execute_result"
    }
   ],
   "source": [
    "from rdt.hyper_transformer import Config, HyperTransformer\n",
    "from rdt.transformers import UniformEncoder, FloatFormatter\n",
    "dict_config = {\n",
    "    'sdtypes': {\n",
    "        'A': 'categorical',\n",
    "        'B': 'categorical',\n",
    "        'C': 'boolean',\n",
    "        'D': 'numerical'\n",
    "  },\n",
    "  'transformers': {\n",
    "    'A': None,\n",
    "    'B': UniformEncoder(),\n",
    "    'C': UniformEncoder(),\n",
    "    'D': FloatFormatter()\n",
    "  }\n",
    "}\n",
    "config = Config(dict_config)\n",
    "ht = HyperTransformer()\n",
    "ht.set_config(config)\n",
    "print(ht.get_config())\n",
    "ht.update_transformers({\n",
    "    ('A', 'D'): None\n",
    "  })\n",
    "ht.get_config()\n"
   ]
  },
  {
   "cell_type": "code",
   "execution_count": 19,
   "metadata": {},
   "outputs": [
    {
     "name": "stdout",
     "output_type": "stream",
     "text": [
      "{\n",
      "    \"sdtypes\": {\n",
      "        \"A\": \"categorical\",\n",
      "        \"B\": \"categorical\",\n",
      "        \"C\": \"boolean\",\n",
      "        \"D\": \"numerical\"\n",
      "    },\n",
      "    \"transformers\": {\n",
      "        \"B\": LabelEncoder(),\n",
      "        \"C\": LabelEncoder(),\n",
      "        \"A\": LabelEncoder(),\n",
      "        \"D\": None\n",
      "    }\n",
      "}\n"
     ]
    }
   ],
   "source": [
    "ht.update_transformers_by_sdtype(sdtype='categorical', transformer_name='LabelEncoder')\n",
    "print(ht.get_config())"
   ]
  },
  {
   "cell_type": "code",
   "execution_count": 8,
   "metadata": {},
   "outputs": [
    {
     "name": "stdout",
     "output_type": "stream",
     "text": [
      "{\n",
      "    \"sdtypes\": {\n",
      "        \"A\": \"categorical\",\n",
      "        \"B\": \"categorical\",\n",
      "        \"C\": \"boolean\",\n",
      "        \"D\": \"numerical\"\n",
      "    },\n",
      "    \"transformers\": {\n",
      "        \"B\": UniformEncoder(),\n",
      "        \"C\": UniformEncoder(),\n",
      "        \"D\": FloatFormatter(),\n",
      "        \"A\": None\n",
      "    }\n",
      "}\n"
     ]
    }
   ],
   "source": [
    "print(ht.get_config())"
   ]
  },
  {
   "cell_type": "code",
   "execution_count": 3,
   "metadata": {},
   "outputs": [],
   "source": [
    "from rdt.transformers import BaseMultiColumnTransformer\n",
    "import pandas as pd\n",
    "import numpy as np\n",
    "\n",
    "class AdditionTransformer(BaseMultiColumnTransformer):\n",
    "            \n",
    "    INPUT_SDTYPE = 'numerical'\n",
    "    SUPPORTED_SDTYPES = ['numerical']\n",
    "\n",
    "    def __init__(self):\n",
    "        super().__init__()\n",
    "        self.output_properties = {\n",
    "            'col_1': {'sdtype': 'numerical'},\n",
    "            'col_2': {'sdtype': 'numerical'},\n",
    "            'col_3': {'sdtype': 'numerical'}\n",
    "        }\n",
    "\n",
    "    def _fit(self, columns_data, columns_to_sdtypess):\n",
    "        self.dtypes = columns_data.dtypes\n",
    "\n",
    "    def _transform(self, data):\n",
    "        return data.cumsum(axis=1)\n",
    "\n",
    "    def _reverse_transform(self, data):\n",
    "        result =  data.diff(axis=1)\n",
    "        result.iloc[:, 0] = data.iloc[:, 0]\n",
    "\n",
    "        return result.astype(self.dtypes)\n",
    "\n",
    "data_test = pd.DataFrame({\n",
    "    'col_1': [1, 2, 3],\n",
    "    'col_2': [10, 20, 30],\n",
    "    'col_3': [100, 200, 300]\n",
    "})\n",
    "\n",
    "column_to_sdtype= {\n",
    "    'col_1': 'numerical',\n",
    "    'col_2': 'numerical',\n",
    "    'col_3': 'numerical'\n",
    "}\n",
    "transformer = AdditionTransformer()\n",
    "#transformer.random_states = None\n",
    "\n",
    "# Run\n",
    "#transformer.fit(data_test, column_to_sdtype)\n",
    "transformed = transformer.fit_transform(data_test, column_to_sdtype)\n",
    "reverse = transformer.reverse_transform(transformed)\n",
    "\n",
    "# Assert\n",
    "expected_transform = pd.DataFrame({\n",
    "    'col_1': [1, 2, 3],\n",
    "    'col_2': [11, 22, 33],\n",
    "    'col_3': [111, 222, 333]\n",
    "})\n",
    "pd.testing.assert_frame_equal(expected_transform, transformed)\n",
    "pd.testing.assert_frame_equal(reverse, data_test)"
   ]
  },
  {
   "cell_type": "code",
   "execution_count": 2,
   "metadata": {},
   "outputs": [],
   "source": [
    "transformer = AdditionTransformer()\n",
    "#transformer.random_states = None\n",
    "\n",
    "# Run\n",
    "transformer.fit(data_test, column_to_sdtype)"
   ]
  },
  {
   "cell_type": "code",
   "execution_count": 3,
   "metadata": {},
   "outputs": [
    {
     "data": {
      "text/plain": [
       "{'fit': RandomState(MT19937) at 0x15045ED40,\n",
       " 'transform': RandomState(MT19937) at 0x15045EA40,\n",
       " 'reverse_transform': RandomState(MT19937) at 0x15045EE40}"
      ]
     },
     "execution_count": 3,
     "metadata": {},
     "output_type": "execute_result"
    }
   ],
   "source": [
    "transformer.random_states"
   ]
  },
  {
   "cell_type": "code",
   "execution_count": 10,
   "metadata": {},
   "outputs": [
    {
     "data": {
      "text/plain": [
       "col_1    int64\n",
       "col_2    int64\n",
       "col_3    int64\n",
       "dtype: object"
      ]
     },
     "execution_count": 10,
     "metadata": {},
     "output_type": "execute_result"
    }
   ],
   "source": [
    "data_test.dtypes"
   ]
  },
  {
   "cell_type": "code",
   "execution_count": 9,
   "metadata": {},
   "outputs": [
    {
     "data": {
      "text/plain": [
       "col_1      int64\n",
       "col_2    float64\n",
       "col_3    float64\n",
       "dtype: object"
      ]
     },
     "execution_count": 9,
     "metadata": {},
     "output_type": "execute_result"
    }
   ],
   "source": [
    "reverse.dtypes"
   ]
  },
  {
   "cell_type": "code",
   "execution_count": 5,
   "metadata": {},
   "outputs": [
    {
     "data": {
      "text/html": [
       "<div>\n",
       "<style scoped>\n",
       "    .dataframe tbody tr th:only-of-type {\n",
       "        vertical-align: middle;\n",
       "    }\n",
       "\n",
       "    .dataframe tbody tr th {\n",
       "        vertical-align: top;\n",
       "    }\n",
       "\n",
       "    .dataframe thead th {\n",
       "        text-align: right;\n",
       "    }\n",
       "</style>\n",
       "<table border=\"1\" class=\"dataframe\">\n",
       "  <thead>\n",
       "    <tr style=\"text-align: right;\">\n",
       "      <th></th>\n",
       "      <th>col_1</th>\n",
       "      <th>col_2</th>\n",
       "      <th>col_3</th>\n",
       "    </tr>\n",
       "  </thead>\n",
       "  <tbody>\n",
       "    <tr>\n",
       "      <th>0</th>\n",
       "      <td>NaN</td>\n",
       "      <td>10.0</td>\n",
       "      <td>100.0</td>\n",
       "    </tr>\n",
       "    <tr>\n",
       "      <th>1</th>\n",
       "      <td>NaN</td>\n",
       "      <td>20.0</td>\n",
       "      <td>200.0</td>\n",
       "    </tr>\n",
       "    <tr>\n",
       "      <th>2</th>\n",
       "      <td>NaN</td>\n",
       "      <td>30.0</td>\n",
       "      <td>300.0</td>\n",
       "    </tr>\n",
       "  </tbody>\n",
       "</table>\n",
       "</div>"
      ],
      "text/plain": [
       "   col_1  col_2  col_3\n",
       "0    NaN   10.0  100.0\n",
       "1    NaN   20.0  200.0\n",
       "2    NaN   30.0  300.0"
      ]
     },
     "execution_count": 5,
     "metadata": {},
     "output_type": "execute_result"
    }
   ],
   "source": [
    "transformed.diff(axis=1)"
   ]
  },
  {
   "cell_type": "code",
   "execution_count": 6,
   "metadata": {},
   "outputs": [
    {
     "data": {
      "text/html": [
       "<div>\n",
       "<style scoped>\n",
       "    .dataframe tbody tr th:only-of-type {\n",
       "        vertical-align: middle;\n",
       "    }\n",
       "\n",
       "    .dataframe tbody tr th {\n",
       "        vertical-align: top;\n",
       "    }\n",
       "\n",
       "    .dataframe thead th {\n",
       "        text-align: right;\n",
       "    }\n",
       "</style>\n",
       "<table border=\"1\" class=\"dataframe\">\n",
       "  <thead>\n",
       "    <tr style=\"text-align: right;\">\n",
       "      <th></th>\n",
       "      <th>col_1</th>\n",
       "      <th>col_2</th>\n",
       "      <th>col_3</th>\n",
       "    </tr>\n",
       "  </thead>\n",
       "  <tbody>\n",
       "    <tr>\n",
       "      <th>0</th>\n",
       "      <td>1</td>\n",
       "      <td>11</td>\n",
       "      <td>111</td>\n",
       "    </tr>\n",
       "    <tr>\n",
       "      <th>1</th>\n",
       "      <td>2</td>\n",
       "      <td>22</td>\n",
       "      <td>222</td>\n",
       "    </tr>\n",
       "    <tr>\n",
       "      <th>2</th>\n",
       "      <td>3</td>\n",
       "      <td>33</td>\n",
       "      <td>333</td>\n",
       "    </tr>\n",
       "  </tbody>\n",
       "</table>\n",
       "</div>"
      ],
      "text/plain": [
       "   col_1  col_2  col_3\n",
       "0      1     11    111\n",
       "1      2     22    222\n",
       "2      3     33    333"
      ]
     },
     "execution_count": 6,
     "metadata": {},
     "output_type": "execute_result"
    }
   ],
   "source": [
    "transformed"
   ]
  },
  {
   "cell_type": "code",
   "execution_count": 8,
   "metadata": {},
   "outputs": [
    {
     "data": {
      "text/html": [
       "<div>\n",
       "<style scoped>\n",
       "    .dataframe tbody tr th:only-of-type {\n",
       "        vertical-align: middle;\n",
       "    }\n",
       "\n",
       "    .dataframe tbody tr th {\n",
       "        vertical-align: top;\n",
       "    }\n",
       "\n",
       "    .dataframe thead th {\n",
       "        text-align: right;\n",
       "    }\n",
       "</style>\n",
       "<table border=\"1\" class=\"dataframe\">\n",
       "  <thead>\n",
       "    <tr style=\"text-align: right;\">\n",
       "      <th></th>\n",
       "      <th>col_1</th>\n",
       "      <th>col_2</th>\n",
       "      <th>col_3</th>\n",
       "    </tr>\n",
       "  </thead>\n",
       "  <tbody>\n",
       "    <tr>\n",
       "      <th>0</th>\n",
       "      <td>1</td>\n",
       "      <td>10.0</td>\n",
       "      <td>100.0</td>\n",
       "    </tr>\n",
       "    <tr>\n",
       "      <th>1</th>\n",
       "      <td>2</td>\n",
       "      <td>20.0</td>\n",
       "      <td>200.0</td>\n",
       "    </tr>\n",
       "    <tr>\n",
       "      <th>2</th>\n",
       "      <td>3</td>\n",
       "      <td>30.0</td>\n",
       "      <td>300.0</td>\n",
       "    </tr>\n",
       "  </tbody>\n",
       "</table>\n",
       "</div>"
      ],
      "text/plain": [
       "   col_1  col_2  col_3\n",
       "0      1   10.0  100.0\n",
       "1      2   20.0  200.0\n",
       "2      3   30.0  300.0"
      ]
     },
     "execution_count": 8,
     "metadata": {},
     "output_type": "execute_result"
    }
   ],
   "source": [
    "reverse"
   ]
  },
  {
   "cell_type": "code",
   "execution_count": 4,
   "metadata": {},
   "outputs": [
    {
     "data": {
      "text/plain": [
       "{'None.cumsum_col_1': 'numerical',\n",
       " 'None.cumsum_col_2': 'numerical',\n",
       " 'None.cumsum_col_3': 'numerical'}"
      ]
     },
     "execution_count": 4,
     "metadata": {},
     "output_type": "execute_result"
    }
   ],
   "source": [
    "transformer._get_output_to_property('sdtype')"
   ]
  },
  {
   "cell_type": "code",
   "execution_count": 3,
   "metadata": {},
   "outputs": [
    {
     "data": {
      "text/plain": [
       "['None.cumsum_col_1', 'None.cumsum_col_2', 'None.cumsum_col_3']"
      ]
     },
     "execution_count": 3,
     "metadata": {},
     "output_type": "execute_result"
    }
   ],
   "source": [
    "list(transformer._get_output_to_property('sdtype'))"
   ]
  },
  {
   "cell_type": "code",
   "execution_count": 5,
   "metadata": {},
   "outputs": [
    {
     "data": {
      "text/plain": [
       "{'Add': {'sdtype': 'numerical'}}"
      ]
     },
     "execution_count": 5,
     "metadata": {},
     "output_type": "execute_result"
    }
   ],
   "source": [
    "transformer.output_properties"
   ]
  },
  {
   "cell_type": "code",
   "execution_count": 6,
   "metadata": {},
   "outputs": [
    {
     "data": {
      "text/plain": [
       "{'None.Add': 'numerical'}"
      ]
     },
     "execution_count": 6,
     "metadata": {},
     "output_type": "execute_result"
    }
   ],
   "source": [
    "transformer._get_output_to_property('sdtype')"
   ]
  },
  {
   "cell_type": "code",
   "execution_count": 16,
   "metadata": {},
   "outputs": [
    {
     "data": {
      "text/plain": [
       "['col_1#col_2#col_3']"
      ]
     },
     "execution_count": 16,
     "metadata": {},
     "output_type": "execute_result"
    }
   ],
   "source": [
    "transformer.get_output_columns()"
   ]
  },
  {
   "cell_type": "code",
   "execution_count": 7,
   "metadata": {},
   "outputs": [
    {
     "data": {
      "text/plain": [
       "['col_1#col_2#col_3.Add']"
      ]
     },
     "execution_count": 7,
     "metadata": {},
     "output_type": "execute_result"
    }
   ],
   "source": [
    "transformer.output_columns"
   ]
  },
  {
   "cell_type": "code",
   "execution_count": 4,
   "metadata": {},
   "outputs": [],
   "source": [
    "from rdt.transformers import UniformEncoder\n",
    "data = pd.DataFrame({\n",
    "    'bool': [True, False, None, False, True],\n",
    "    'mycol': ['a', 'b', 'a', None, np.nan],\n",
    "})\n",
    "ue = UniformEncoder()"
   ]
  },
  {
   "cell_type": "code",
   "execution_count": 5,
   "metadata": {},
   "outputs": [
    {
     "data": {
      "text/plain": [
       "{'fit': RandomState(MT19937) at 0x1226D8440,\n",
       " 'transform': None,\n",
       " 'reverse_transform': None}"
      ]
     },
     "execution_count": 5,
     "metadata": {},
     "output_type": "execute_result"
    }
   ],
   "source": [
    "ue.random_states"
   ]
  },
  {
   "cell_type": "code",
   "execution_count": 6,
   "metadata": {},
   "outputs": [],
   "source": [
    "ue.fit(data, 'mycol')"
   ]
  },
  {
   "cell_type": "code",
   "execution_count": 7,
   "metadata": {},
   "outputs": [
    {
     "data": {
      "text/plain": [
       "{'fit': RandomState(MT19937) at 0x15045EC40,\n",
       " 'transform': RandomState(MT19937) at 0x1505D1040,\n",
       " 'reverse_transform': RandomState(MT19937) at 0x1505D1140}"
      ]
     },
     "execution_count": 7,
     "metadata": {},
     "output_type": "execute_result"
    }
   ],
   "source": [
    "ue.random_states"
   ]
  },
  {
   "cell_type": "code",
   "execution_count": 8,
   "metadata": {},
   "outputs": [
    {
     "data": {
      "text/plain": [
       "['mycol']"
      ]
     },
     "execution_count": 8,
     "metadata": {},
     "output_type": "execute_result"
    }
   ],
   "source": [
    "ue.columns"
   ]
  },
  {
   "cell_type": "code",
   "execution_count": null,
   "metadata": {},
   "outputs": [],
   "source": [
    "# Run\n",
    "ue.fit(data, 'mycol')\n",
    "transformed = ue.transform(data)\n",
    "out = ue.reverse_transform(transformed)\n",
    "\n",
    "# Assert\n",
    "pd.testing.assert_frame_equal(out, data)"
   ]
  },
  {
   "cell_type": "code",
   "execution_count": 32,
   "metadata": {},
   "outputs": [],
   "source": [
    "from rdt.transformers import BaseMultiColumnTransformer\n",
    "import pandas as pd\n",
    "import numpy as np\n",
    "\n",
    "class ConcatenateTransformer(BaseMultiColumnTransformer):\n",
    "\n",
    "    def _fit(self, columns_data, columns_to_sdtypess):\n",
    "        column_names = list(columns_to_sdtypess.keys())\n",
    "        self.name_1 = column_names[0] + '#' + column_names[1]\n",
    "        self.name_2 = column_names[2] + '#' + column_names[3]\n",
    "        self.output_properties = {\n",
    "            self.name_1: {'sdtype': 'categorical'},\n",
    "            self.name_2: {'sdtype': 'categorical'}\n",
    "        }\n",
    "        self.dtypes = columns_data.dtypes\n",
    "\n",
    "    def _transform(self, data):\n",
    "        data[self.name_1] = data.iloc[:, 0] + '#' + data.iloc[:, 1]\n",
    "        data[self.name_2] = data.iloc[:, 2] + '#' + data.iloc[:, 3]\n",
    "\n",
    "        return data.drop(columns=self.columns)\n",
    "\n",
    "    def _reverse_transform(self, data):\n",
    "        \n",
    "        result = data.copy()\n",
    "        column_names = list(data.columns)\n",
    "\n",
    "        col1, col2 = column_names[0].split('#')\n",
    "        result[[col1, col2]] = result[column_names[0]].str.split('#', expand=True)\n",
    "        \n",
    "        col3, col4 = column_names[1].split('#')\n",
    "        result[[col3, col4]] = result[column_names[1]].str.split('#', expand=True)\n",
    "\n",
    "        return result.astype(self.dtypes).drop(columns=column_names)\n",
    "    \n",
    "\n",
    "data_test = pd.DataFrame({\n",
    "    'col_1': ['A', 'B', 'C'],\n",
    "    'col_2': ['D', 'E', 'F'],\n",
    "    'col_3': ['G', 'H', 'I'],\n",
    "    'col_4': ['J', 'K', 'L']\n",
    "})\n",
    "\n",
    "column_to_sdtype= {\n",
    "    'col_1': 'categorical',\n",
    "    'col_2': 'categorical',\n",
    "    'col_3': 'categorical',\n",
    "    'col_4': 'categorical'\n",
    "}\n",
    "transformer = ConcatenateTransformer()\n",
    "\n",
    "# Run\n",
    "transformer.fit(data_test, column_to_sdtype)\n",
    "transformed = transformer.transform(data_test)\n",
    "reverse = transformer.reverse_transform(transformed)\n",
    "\n",
    "# Assert\n",
    "expected_transform = pd.DataFrame({\n",
    "    'col_1#col_2': ['A#D', 'B#E', 'C#F'],\n",
    "    'col_3#col_4': ['G#J', 'H#K', 'I#L']\n",
    "})\n",
    "pd.testing.assert_frame_equal(expected_transform, transformed)\n",
    "pd.testing.assert_frame_equal(reverse, data_test)"
   ]
  },
  {
   "cell_type": "code",
   "execution_count": 27,
   "metadata": {},
   "outputs": [
    {
     "data": {
      "text/plain": [
       "'col_1#col_2'"
      ]
     },
     "execution_count": 27,
     "metadata": {},
     "output_type": "execute_result"
    }
   ],
   "source": [
    "transformer.name_1"
   ]
  },
  {
   "cell_type": "code",
   "execution_count": 28,
   "metadata": {},
   "outputs": [
    {
     "data": {
      "text/html": [
       "<div>\n",
       "<style scoped>\n",
       "    .dataframe tbody tr th:only-of-type {\n",
       "        vertical-align: middle;\n",
       "    }\n",
       "\n",
       "    .dataframe tbody tr th {\n",
       "        vertical-align: top;\n",
       "    }\n",
       "\n",
       "    .dataframe thead th {\n",
       "        text-align: right;\n",
       "    }\n",
       "</style>\n",
       "<table border=\"1\" class=\"dataframe\">\n",
       "  <thead>\n",
       "    <tr style=\"text-align: right;\">\n",
       "      <th></th>\n",
       "      <th>col_1#col_2</th>\n",
       "      <th>col_3#col_4</th>\n",
       "    </tr>\n",
       "  </thead>\n",
       "  <tbody>\n",
       "    <tr>\n",
       "      <th>0</th>\n",
       "      <td>A#D</td>\n",
       "      <td>G#J</td>\n",
       "    </tr>\n",
       "    <tr>\n",
       "      <th>1</th>\n",
       "      <td>B#E</td>\n",
       "      <td>H#K</td>\n",
       "    </tr>\n",
       "    <tr>\n",
       "      <th>2</th>\n",
       "      <td>C#F</td>\n",
       "      <td>I#L</td>\n",
       "    </tr>\n",
       "  </tbody>\n",
       "</table>\n",
       "</div>"
      ],
      "text/plain": [
       "  col_1#col_2 col_3#col_4\n",
       "0         A#D         G#J\n",
       "1         B#E         H#K\n",
       "2         C#F         I#L"
      ]
     },
     "execution_count": 28,
     "metadata": {},
     "output_type": "execute_result"
    }
   ],
   "source": [
    "transformed"
   ]
  },
  {
   "cell_type": "code",
   "execution_count": 23,
   "metadata": {},
   "outputs": [
    {
     "data": {
      "text/plain": [
       "{'col_1#col_2': {'sdtype': 'categorical'},\n",
       " 'col_3#col_4': {'sdtype': 'categorical'}}"
      ]
     },
     "execution_count": 23,
     "metadata": {},
     "output_type": "execute_result"
    }
   ],
   "source": [
    "transformer.output_properties"
   ]
  },
  {
   "cell_type": "code",
   "execution_count": 19,
   "metadata": {},
   "outputs": [
    {
     "data": {
      "text/plain": [
       "{'col_1#col_2': {'sdtype': 'categorical'},\n",
       " 'col_3#col_4': {'sdtype': 'categorical'}}"
      ]
     },
     "execution_count": 19,
     "metadata": {},
     "output_type": "execute_result"
    }
   ],
   "source": [
    "transformer.output_properties"
   ]
  },
  {
   "cell_type": "code",
   "execution_count": 11,
   "metadata": {},
   "outputs": [
    {
     "data": {
      "text/html": [
       "<div>\n",
       "<style scoped>\n",
       "    .dataframe tbody tr th:only-of-type {\n",
       "        vertical-align: middle;\n",
       "    }\n",
       "\n",
       "    .dataframe tbody tr th {\n",
       "        vertical-align: top;\n",
       "    }\n",
       "\n",
       "    .dataframe thead th {\n",
       "        text-align: right;\n",
       "    }\n",
       "</style>\n",
       "<table border=\"1\" class=\"dataframe\">\n",
       "  <thead>\n",
       "    <tr style=\"text-align: right;\">\n",
       "      <th></th>\n",
       "      <th>col_1#col_2</th>\n",
       "      <th>col_3#col_4</th>\n",
       "    </tr>\n",
       "  </thead>\n",
       "  <tbody>\n",
       "    <tr>\n",
       "      <th>0</th>\n",
       "      <td>A#D</td>\n",
       "      <td>G#J</td>\n",
       "    </tr>\n",
       "    <tr>\n",
       "      <th>1</th>\n",
       "      <td>B#E</td>\n",
       "      <td>H#K</td>\n",
       "    </tr>\n",
       "    <tr>\n",
       "      <th>2</th>\n",
       "      <td>C#F</td>\n",
       "      <td>I#L</td>\n",
       "    </tr>\n",
       "  </tbody>\n",
       "</table>\n",
       "</div>"
      ],
      "text/plain": [
       "  col_1#col_2 col_3#col_4\n",
       "0         A#D         G#J\n",
       "1         B#E         H#K\n",
       "2         C#F         I#L"
      ]
     },
     "execution_count": 11,
     "metadata": {},
     "output_type": "execute_result"
    }
   ],
   "source": [
    "transformed"
   ]
  },
  {
   "cell_type": "code",
   "execution_count": 12,
   "metadata": {},
   "outputs": [
    {
     "data": {
      "text/html": [
       "<div>\n",
       "<style scoped>\n",
       "    .dataframe tbody tr th:only-of-type {\n",
       "        vertical-align: middle;\n",
       "    }\n",
       "\n",
       "    .dataframe tbody tr th {\n",
       "        vertical-align: top;\n",
       "    }\n",
       "\n",
       "    .dataframe thead th {\n",
       "        text-align: right;\n",
       "    }\n",
       "</style>\n",
       "<table border=\"1\" class=\"dataframe\">\n",
       "  <thead>\n",
       "    <tr style=\"text-align: right;\">\n",
       "      <th></th>\n",
       "      <th>col_1</th>\n",
       "      <th>col_2</th>\n",
       "      <th>col_3</th>\n",
       "      <th>col_4</th>\n",
       "    </tr>\n",
       "  </thead>\n",
       "  <tbody>\n",
       "    <tr>\n",
       "      <th>0</th>\n",
       "      <td>A</td>\n",
       "      <td>D</td>\n",
       "      <td>G</td>\n",
       "      <td>J</td>\n",
       "    </tr>\n",
       "    <tr>\n",
       "      <th>1</th>\n",
       "      <td>B</td>\n",
       "      <td>E</td>\n",
       "      <td>H</td>\n",
       "      <td>K</td>\n",
       "    </tr>\n",
       "    <tr>\n",
       "      <th>2</th>\n",
       "      <td>C</td>\n",
       "      <td>F</td>\n",
       "      <td>I</td>\n",
       "      <td>L</td>\n",
       "    </tr>\n",
       "  </tbody>\n",
       "</table>\n",
       "</div>"
      ],
      "text/plain": [
       "  col_1 col_2 col_3 col_4\n",
       "0     A     D     G     J\n",
       "1     B     E     H     K\n",
       "2     C     F     I     L"
      ]
     },
     "execution_count": 12,
     "metadata": {},
     "output_type": "execute_result"
    }
   ],
   "source": [
    "reverse"
   ]
  },
  {
   "cell_type": "code",
   "execution_count": 4,
   "metadata": {},
   "outputs": [],
   "source": [
    "data_test = pd.DataFrame({\n",
    "    'col_1': [1, 2, 3],\n",
    "    'col_2': [10, 20, 30],\n",
    "    'col_3': [100, 200, 300]\n",
    "})\n"
   ]
  },
  {
   "cell_type": "code",
   "execution_count": 6,
   "metadata": {},
   "outputs": [
    {
     "data": {
      "text/plain": [
       "['col_1', 'col_2', 'col_3']"
      ]
     },
     "execution_count": 6,
     "metadata": {},
     "output_type": "execute_result"
    }
   ],
   "source": [
    "list(data_test.columns)"
   ]
  },
  {
   "cell_type": "code",
   "execution_count": 33,
   "metadata": {},
   "outputs": [],
   "source": [
    "from rdt.transformers import BaseMultiColumnTransformer\n",
    "import pandas as pd\n",
    "import numpy as np\n",
    "\n",
    "class ExpandTransformer(BaseMultiColumnTransformer):\n",
    "\n",
    "    def _fit(self, columns_data, columns_to_sdtypess):\n",
    "        name_1 = self.columns[0] + '.first_part'\n",
    "        name_2 = self.columns[0] + '.second_part'\n",
    "        name_3 = self.columns[1] + '.first_part'\n",
    "        name_4 = self.columns[1] + '.second_part'\n",
    "        self.output_properties = {\n",
    "            name_1: {'sdtype': 'categorical'},\n",
    "            name_2: {'sdtype': 'categorical'},\n",
    "            name_3: {'sdtype': 'categorical'},\n",
    "            name_4: {'sdtype': 'categorical'}\n",
    "        }\n",
    "        self.names = [name_1, name_2, name_3, name_4]\n",
    "        self.dtypes = columns_data.dtypes\n",
    "\n",
    "    def _transform(self, data):\n",
    "        data[self.names[0]] = data[self.columns[0]].str[0]\n",
    "        data[self.names[1]] = data[self.columns[0]].str[1]\n",
    "        data[self.names[2]] = data[self.columns[1]].str[0]\n",
    "        data[self.names[3]] = data[self.columns[1]].str[1]\n",
    "\n",
    "        return data.drop(columns=self.columns)\n",
    "\n",
    "    def _reverse_transform(self, data):\n",
    "        result = data.copy()\n",
    "        result[self.columns[0]] = result[self.names[0]] + result[self.names[1]]\n",
    "        result[self.columns[1]] = result[self.names[2]] + result[self.names[3]]\n",
    "\n",
    "        return result.astype(self.dtypes).drop(columns=self.names)\n",
    "    \n",
    "\n",
    "data_test = pd.DataFrame({\n",
    "    'col_1': ['AB', 'CD', 'EF'],\n",
    "    'col_2': ['GH', 'IJ', 'KL'],\n",
    "})\n",
    "\n",
    "column_to_sdtype= {\n",
    "    'col_1': 'categorical',\n",
    "    'col_2': 'categorical',\n",
    "}\n",
    "transformer = ExpandTransformer()\n",
    "\n",
    "# Run\n",
    "transformer.fit(data_test, column_to_sdtype)\n",
    "transformed = transformer.transform(data_test)\n",
    "reverse = transformer.reverse_transform(transformed)\n",
    "\n",
    "# Assert\n",
    "expected_transform = pd.DataFrame({\n",
    "    'col_1.first_part': ['A', 'C', 'E'],\n",
    "    'col_1.second_part': ['B', 'D', 'F'],\n",
    "    'col_2.first_part': ['G', 'I', 'K'],\n",
    "    'col_2.second_part': ['H', 'J', 'L']\n",
    "})\n",
    "pd.testing.assert_frame_equal(expected_transform, transformed)\n",
    "pd.testing.assert_frame_equal(reverse, data_test)"
   ]
  },
  {
   "cell_type": "code",
   "execution_count": 34,
   "metadata": {},
   "outputs": [
    {
     "data": {
      "text/html": [
       "<div>\n",
       "<style scoped>\n",
       "    .dataframe tbody tr th:only-of-type {\n",
       "        vertical-align: middle;\n",
       "    }\n",
       "\n",
       "    .dataframe tbody tr th {\n",
       "        vertical-align: top;\n",
       "    }\n",
       "\n",
       "    .dataframe thead th {\n",
       "        text-align: right;\n",
       "    }\n",
       "</style>\n",
       "<table border=\"1\" class=\"dataframe\">\n",
       "  <thead>\n",
       "    <tr style=\"text-align: right;\">\n",
       "      <th></th>\n",
       "      <th>col_1.first_part</th>\n",
       "      <th>col_1.second_part</th>\n",
       "      <th>col_2.first_part</th>\n",
       "      <th>col_2.second_part</th>\n",
       "    </tr>\n",
       "  </thead>\n",
       "  <tbody>\n",
       "    <tr>\n",
       "      <th>0</th>\n",
       "      <td>A</td>\n",
       "      <td>B</td>\n",
       "      <td>G</td>\n",
       "      <td>H</td>\n",
       "    </tr>\n",
       "    <tr>\n",
       "      <th>1</th>\n",
       "      <td>C</td>\n",
       "      <td>D</td>\n",
       "      <td>I</td>\n",
       "      <td>J</td>\n",
       "    </tr>\n",
       "    <tr>\n",
       "      <th>2</th>\n",
       "      <td>E</td>\n",
       "      <td>F</td>\n",
       "      <td>K</td>\n",
       "      <td>L</td>\n",
       "    </tr>\n",
       "  </tbody>\n",
       "</table>\n",
       "</div>"
      ],
      "text/plain": [
       "  col_1.first_part col_1.second_part col_2.first_part col_2.second_part\n",
       "0                A                 B                G                 H\n",
       "1                C                 D                I                 J\n",
       "2                E                 F                K                 L"
      ]
     },
     "execution_count": 34,
     "metadata": {},
     "output_type": "execute_result"
    }
   ],
   "source": [
    "transformed"
   ]
  },
  {
   "cell_type": "code",
   "execution_count": 37,
   "metadata": {},
   "outputs": [
    {
     "ename": "KeyError",
     "evalue": "'lala'",
     "output_type": "error",
     "traceback": [
      "\u001b[0;31m---------------------------------------------------------------------------\u001b[0m",
      "\u001b[0;31mKeyError\u001b[0m                                  Traceback (most recent call last)",
      "Cell \u001b[0;32mIn[37], line 1\u001b[0m\n\u001b[0;32m----> 1\u001b[0m transformer\u001b[39m.\u001b[39;49m_get_output_to_property(\u001b[39m'\u001b[39;49m\u001b[39mlala\u001b[39;49m\u001b[39m'\u001b[39;49m)\n",
      "File \u001b[0;32m~/Desktop/RDT/rdt/transformers/base.py:512\u001b[0m, in \u001b[0;36mBaseMultiColumnTransformer._get_output_to_property\u001b[0;34m(self, property_)\u001b[0m\n\u001b[1;32m    511\u001b[0m \u001b[39mdef\u001b[39;00m \u001b[39m_get_output_to_property\u001b[39m(\u001b[39mself\u001b[39m, property_):\n\u001b[0;32m--> 512\u001b[0m     \u001b[39mreturn\u001b[39;00m {output_column: properties[property_] \u001b[39mfor\u001b[39;00m output_column, properties \u001b[39min\u001b[39;00m \u001b[39mself\u001b[39m\u001b[39m.\u001b[39moutput_properties\u001b[39m.\u001b[39mitems()}\n",
      "File \u001b[0;32m~/Desktop/RDT/rdt/transformers/base.py:512\u001b[0m, in \u001b[0;36m<dictcomp>\u001b[0;34m(.0)\u001b[0m\n\u001b[1;32m    511\u001b[0m \u001b[39mdef\u001b[39;00m \u001b[39m_get_output_to_property\u001b[39m(\u001b[39mself\u001b[39m, property_):\n\u001b[0;32m--> 512\u001b[0m     \u001b[39mreturn\u001b[39;00m {output_column: properties[property_] \u001b[39mfor\u001b[39;00m output_column, properties \u001b[39min\u001b[39;00m \u001b[39mself\u001b[39m\u001b[39m.\u001b[39moutput_properties\u001b[39m.\u001b[39mitems()}\n",
      "\u001b[0;31mKeyError\u001b[0m: 'lala'"
     ]
    }
   ],
   "source": [
    "transformer._get_output_to_property('lala')"
   ]
  },
  {
   "cell_type": "code",
   "execution_count": 35,
   "metadata": {},
   "outputs": [
    {
     "data": {
      "text/html": [
       "<div>\n",
       "<style scoped>\n",
       "    .dataframe tbody tr th:only-of-type {\n",
       "        vertical-align: middle;\n",
       "    }\n",
       "\n",
       "    .dataframe tbody tr th {\n",
       "        vertical-align: top;\n",
       "    }\n",
       "\n",
       "    .dataframe thead th {\n",
       "        text-align: right;\n",
       "    }\n",
       "</style>\n",
       "<table border=\"1\" class=\"dataframe\">\n",
       "  <thead>\n",
       "    <tr style=\"text-align: right;\">\n",
       "      <th></th>\n",
       "      <th>col_1</th>\n",
       "      <th>col_2</th>\n",
       "    </tr>\n",
       "  </thead>\n",
       "  <tbody>\n",
       "    <tr>\n",
       "      <th>0</th>\n",
       "      <td>AB</td>\n",
       "      <td>GH</td>\n",
       "    </tr>\n",
       "    <tr>\n",
       "      <th>1</th>\n",
       "      <td>CD</td>\n",
       "      <td>IJ</td>\n",
       "    </tr>\n",
       "    <tr>\n",
       "      <th>2</th>\n",
       "      <td>EF</td>\n",
       "      <td>KL</td>\n",
       "    </tr>\n",
       "  </tbody>\n",
       "</table>\n",
       "</div>"
      ],
      "text/plain": [
       "  col_1 col_2\n",
       "0    AB    GH\n",
       "1    CD    IJ\n",
       "2    EF    KL"
      ]
     },
     "execution_count": 35,
     "metadata": {},
     "output_type": "execute_result"
    }
   ],
   "source": [
    "reverse"
   ]
  },
  {
   "cell_type": "code",
   "execution_count": 1,
   "metadata": {},
   "outputs": [
    {
     "ename": "InvalidConfigError",
     "evalue": "The column names in the 'sdtypes' dictionary must match the column names in the 'transformers' dictionary.",
     "output_type": "error",
     "traceback": [
      "\u001b[0;31m---------------------------------------------------------------------------\u001b[0m",
      "\u001b[0;31mInvalidConfigError\u001b[0m                        Traceback (most recent call last)",
      "Cell \u001b[0;32mIn[1], line 52\u001b[0m\n\u001b[1;32m     50\u001b[0m config \u001b[39m=\u001b[39m Config(dict_config)\n\u001b[1;32m     51\u001b[0m ht \u001b[39m=\u001b[39m HyperTransformer()\n\u001b[0;32m---> 52\u001b[0m ht\u001b[39m.\u001b[39;49mset_config(config)\n\u001b[1;32m     54\u001b[0m \u001b[39m# Run\u001b[39;00m\n\u001b[1;32m     55\u001b[0m ht\u001b[39m.\u001b[39mremove_transformers_by_sdtype(sdtype\u001b[39m=\u001b[39m\u001b[39m'\u001b[39m\u001b[39mboolean\u001b[39m\u001b[39m'\u001b[39m)\n",
      "File \u001b[0;32m~/Desktop/RDT/rdt/hyper_transformer.py:250\u001b[0m, in \u001b[0;36mHyperTransformer.set_config\u001b[0;34m(self, config)\u001b[0m\n\u001b[1;32m    238\u001b[0m \u001b[39mdef\u001b[39;00m \u001b[39mset_config\u001b[39m(\u001b[39mself\u001b[39m, config):\n\u001b[1;32m    239\u001b[0m \u001b[39m    \u001b[39m\u001b[39m\"\"\"Set the ``HyperTransformer`` configuration.\u001b[39;00m\n\u001b[1;32m    240\u001b[0m \n\u001b[1;32m    241\u001b[0m \u001b[39m    This method will only update the sdtypes/transformers passed. Other previously\u001b[39;00m\n\u001b[0;32m   (...)\u001b[0m\n\u001b[1;32m    248\u001b[0m \u001b[39m            - transformers: A dictionary mapping column names to their transformer instances.\u001b[39;00m\n\u001b[1;32m    249\u001b[0m \u001b[39m    \"\"\"\u001b[39;00m\n\u001b[0;32m--> 250\u001b[0m     \u001b[39mself\u001b[39;49m\u001b[39m.\u001b[39;49m_validate_config(config)\n\u001b[1;32m    251\u001b[0m     \u001b[39mself\u001b[39m\u001b[39m.\u001b[39mfield_sdtypes\u001b[39m.\u001b[39mupdate(config[\u001b[39m'\u001b[39m\u001b[39msdtypes\u001b[39m\u001b[39m'\u001b[39m])\n\u001b[1;32m    252\u001b[0m     \u001b[39mself\u001b[39m\u001b[39m.\u001b[39mfield_transformers\u001b[39m.\u001b[39mupdate(config[\u001b[39m'\u001b[39m\u001b[39mtransformers\u001b[39m\u001b[39m'\u001b[39m])\n",
      "File \u001b[0;32m~/Desktop/RDT/rdt/hyper_transformer.py:209\u001b[0m, in \u001b[0;36mHyperTransformer._validate_config\u001b[0;34m(config)\u001b[0m\n\u001b[1;32m    207\u001b[0m transformers \u001b[39m=\u001b[39m config[\u001b[39m'\u001b[39m\u001b[39mtransformers\u001b[39m\u001b[39m'\u001b[39m]\n\u001b[1;32m    208\u001b[0m \u001b[39mif\u001b[39;00m \u001b[39mset\u001b[39m(sdtypes\u001b[39m.\u001b[39mkeys()) \u001b[39m!=\u001b[39m \u001b[39mset\u001b[39m(transformers\u001b[39m.\u001b[39mkeys()):\n\u001b[0;32m--> 209\u001b[0m     \u001b[39mraise\u001b[39;00m InvalidConfigError(\n\u001b[1;32m    210\u001b[0m         \u001b[39m\"\u001b[39m\u001b[39mThe column names in the \u001b[39m\u001b[39m'\u001b[39m\u001b[39msdtypes\u001b[39m\u001b[39m'\u001b[39m\u001b[39m dictionary must match the \u001b[39m\u001b[39m\"\u001b[39m\n\u001b[1;32m    211\u001b[0m         \u001b[39m\"\u001b[39m\u001b[39mcolumn names in the \u001b[39m\u001b[39m'\u001b[39m\u001b[39mtransformers\u001b[39m\u001b[39m'\u001b[39m\u001b[39m dictionary.\u001b[39m\u001b[39m\"\u001b[39m\n\u001b[1;32m    212\u001b[0m     )\n\u001b[1;32m    214\u001b[0m HyperTransformer\u001b[39m.\u001b[39m_validate_sdtypes(sdtypes)\n\u001b[1;32m    215\u001b[0m HyperTransformer\u001b[39m.\u001b[39m_validate_transformers(transformers)\n",
      "\u001b[0;31mInvalidConfigError\u001b[0m: The column names in the 'sdtypes' dictionary must match the column names in the 'transformers' dictionary."
     ]
    }
   ],
   "source": [
    "import numpy as np\n",
    "import pandas as pd\n",
    "import pytest\n",
    "\n",
    "from rdt import get_demo\n",
    "from rdt.errors import ConfigNotSetError, InvalidConfigError, InvalidDataError, NotFittedError\n",
    "from rdt.hyper_transformer import Config, HyperTransformer\n",
    "from rdt.transformers import (\n",
    "    AnonymizedFaker, BaseTransformer, BinaryEncoder, ClusterBasedNormalizer, FloatFormatter,\n",
    "    FrequencyEncoder, LabelEncoder, OneHotEncoder, RegexGenerator, UniformEncoder, BaseMultiColumnTransformer,\n",
    "    UnixTimestampEncoder, get_default_transformer, get_default_transformers)\n",
    "from rdt.transformers.datetime import OptimizedTimestampEncoder\n",
    "from rdt.transformers.numerical import GaussianNormalizer\n",
    "from rdt.transformers.pii.anonymizer import PseudoAnonymizedFaker\n",
    "\n",
    "\n",
    "class DummyMultiColumnTransformerNumerical(BaseMultiColumnTransformer):\n",
    "    \"\"\"Multi column transformer that takes categorical data.\"\"\"\n",
    "\n",
    "    SUPPORTED_SDTYPES = ['categorical', 'boolean']\n",
    "\n",
    "    def _fit(self, columns_data, columns_to_sdtypess):\n",
    "        self.output_properties = {\n",
    "            column: {\n",
    "                'sdtype': 'numerical',\n",
    "            } for column in self.columns\n",
    "        }\n",
    "\n",
    "    def _transform(self, data):\n",
    "        return data.astype(float)\n",
    "\n",
    "    def _reverse_transform(self, data):\n",
    "        return data.astype(str)\n",
    "\n",
    "dict_config = {\n",
    "    'sdtypes': {\n",
    "        'A': 'categorical',\n",
    "        'B': 'categorical',\n",
    "        'C': 'boolean',\n",
    "        'D': 'categorical',\n",
    "        'E': 'categorical'\n",
    "    },\n",
    "    'transformers': {\n",
    "        'A': UniformEncoder(),\n",
    "        ('B', 'C', 'D'): DummyMultiColumnTransformerNumerical(),\n",
    "        'E': UniformEncoder()\n",
    "    }\n",
    "}\n",
    "\n",
    "config = Config(dict_config)\n",
    "ht = HyperTransformer()\n",
    "ht.set_config(config)\n",
    "\n",
    "# Run\n",
    "ht.remove_transformers_by_sdtype(sdtype='boolean')\n",
    "new_config = ht.get_config()\n",
    "\n",
    "# Assert\n",
    "expected_config = Config({\n",
    "    \"sdtypes\": {\n",
    "        \"A\": \"categorical\",\n",
    "        \"B\": \"categorical\",\n",
    "        \"C\": \"boolean\",\n",
    "        \"D\": \"categorical\",\n",
    "        \"E\": \"categorical\"\n",
    "    },\n",
    "    \"transformers\": {\n",
    "        \"A\": UniformEncoder(),\n",
    "        \"E\": UniformEncoder(),\n",
    "        \"('C', 'D')\": DummyMultiColumnTransformerNumerical(),\n",
    "        \"B\": None\n",
    "    }\n",
    "})\n",
    "\n",
    "assert repr(new_config) == repr(expected_config)\n"
   ]
  },
  {
   "cell_type": "code",
   "execution_count": 2,
   "metadata": {},
   "outputs": [
    {
     "data": {
      "text/plain": [
       "{\n",
       "    \"sdtypes\": {\n",
       "        \"A\": \"categorical\",\n",
       "        \"B\": \"categorical\",\n",
       "        \"C\": \"boolean\",\n",
       "        \"D\": \"categorical\",\n",
       "        \"E\": \"categorical\"\n",
       "    },\n",
       "    \"transformers\": {\n",
       "        \"A\": UniformEncoder(),\n",
       "        \"E\": UniformEncoder(),\n",
       "        \"('B', 'D')\": DummyMultiColumnTransformerNumerical(),\n",
       "        \"C\": None\n",
       "    }\n",
       "}"
      ]
     },
     "execution_count": 2,
     "metadata": {},
     "output_type": "execute_result"
    }
   ],
   "source": [
    "new_config"
   ]
  },
  {
   "cell_type": "code",
   "execution_count": 10,
   "metadata": {},
   "outputs": [],
   "source": [
    "ht = HyperTransformer()\n",
    "ht.field_sdtypes = {\n",
    "    'column1': 'categorical',\n",
    "    'column2': 'categorical',\n",
    "    'column3': 'categorical',\n",
    "    'column4': 'categorical'\n",
    "}\n",
    "ht.field_transformers = {\n",
    "    'column1': 'transformer',\n",
    "    ('column2', 'column3'): 'multi_column_transformer',\n",
    "    'column4': 'transformer'\n",
    "}\n",
    "ht._multi_column_fields = {\n",
    "    'column2': ('column2', 'column3'),\n",
    "    'column3': ('column2', 'column3')\n",
    "}\n",
    "\n",
    "# Run\n",
    "ht.remove_transformers(column_names=['column3', 'column4'])"
   ]
  },
  {
   "cell_type": "code",
   "execution_count": 11,
   "metadata": {},
   "outputs": [
    {
     "data": {
      "text/plain": [
       "{\n",
       "    \"sdtypes\": {\n",
       "        \"column1\": \"categorical\",\n",
       "        \"column2\": \"categorical\",\n",
       "        \"column3\": \"categorical\",\n",
       "        \"column4\": \"categorical\"\n",
       "    },\n",
       "    \"transformers\": {\n",
       "        \"column1\": \"'transformer'\",\n",
       "        \"column4\": None,\n",
       "        \"column2\": \"'multi_column_transformer'\",\n",
       "        \"column3\": None\n",
       "    }\n",
       "}"
      ]
     },
     "execution_count": 11,
     "metadata": {},
     "output_type": "execute_result"
    }
   ],
   "source": [
    "ht.get_config()"
   ]
  },
  {
   "cell_type": "code",
   "execution_count": 3,
   "metadata": {},
   "outputs": [
    {
     "ename": "AttributeError",
     "evalue": "'str' object has no attribute 'get_supported_sdtypes'",
     "output_type": "error",
     "traceback": [
      "\u001b[0;31m---------------------------------------------------------------------------\u001b[0m",
      "\u001b[0;31mAttributeError\u001b[0m                            Traceback (most recent call last)",
      "Cell \u001b[0;32mIn[3], line 19\u001b[0m\n\u001b[1;32m     13\u001b[0m ht\u001b[39m.\u001b[39m_multi_column_fields \u001b[39m=\u001b[39m {\n\u001b[1;32m     14\u001b[0m     \u001b[39m'\u001b[39m\u001b[39mcolumn2\u001b[39m\u001b[39m'\u001b[39m: (\u001b[39m'\u001b[39m\u001b[39mcolumn2\u001b[39m\u001b[39m'\u001b[39m, \u001b[39m'\u001b[39m\u001b[39mcolumn3\u001b[39m\u001b[39m'\u001b[39m),\n\u001b[1;32m     15\u001b[0m     \u001b[39m'\u001b[39m\u001b[39mcolumn3\u001b[39m\u001b[39m'\u001b[39m: (\u001b[39m'\u001b[39m\u001b[39mcolumn2\u001b[39m\u001b[39m'\u001b[39m, \u001b[39m'\u001b[39m\u001b[39mcolumn3\u001b[39m\u001b[39m'\u001b[39m)\n\u001b[1;32m     16\u001b[0m }\n\u001b[1;32m     18\u001b[0m \u001b[39m# Run\u001b[39;00m\n\u001b[0;32m---> 19\u001b[0m ht\u001b[39m.\u001b[39;49mupdate_sdtypes(column_name_to_sdtype\u001b[39m=\u001b[39;49m{\n\u001b[1;32m     20\u001b[0m     \u001b[39m'\u001b[39;49m\u001b[39mcolumn1\u001b[39;49m\u001b[39m'\u001b[39;49m: \u001b[39m'\u001b[39;49m\u001b[39mboolean\u001b[39;49m\u001b[39m'\u001b[39;49m,\n\u001b[1;32m     21\u001b[0m     }\n\u001b[1;32m     22\u001b[0m )\n\u001b[1;32m     24\u001b[0m \u001b[39m# Assert\u001b[39;00m\n\u001b[1;32m     25\u001b[0m \u001b[39massert\u001b[39;00m ht\u001b[39m.\u001b[39mfield_transformers \u001b[39m==\u001b[39m {\n\u001b[1;32m     26\u001b[0m     \u001b[39m'\u001b[39m\u001b[39mcolumn1\u001b[39m\u001b[39m'\u001b[39m: \u001b[39m'\u001b[39m\u001b[39mtransformer\u001b[39m\u001b[39m'\u001b[39m,\n\u001b[1;32m     27\u001b[0m     \u001b[39m'\u001b[39m\u001b[39mcolumn2\u001b[39m\u001b[39m'\u001b[39m: \u001b[39m'\u001b[39m\u001b[39mmulti_column_transformer\u001b[39m\u001b[39m'\u001b[39m,\n\u001b[1;32m     28\u001b[0m     \u001b[39m'\u001b[39m\u001b[39mcolumn3\u001b[39m\u001b[39m'\u001b[39m: \u001b[39mNone\u001b[39;00m,\n\u001b[1;32m     29\u001b[0m     \u001b[39m'\u001b[39m\u001b[39mcolumn4\u001b[39m\u001b[39m'\u001b[39m: \u001b[39mNone\u001b[39;00m\n\u001b[1;32m     30\u001b[0m }\n",
      "File \u001b[0;32m~/Desktop/RDT/rdt/hyper_transformer.py:429\u001b[0m, in \u001b[0;36mHyperTransformer.update_sdtypes\u001b[0;34m(self, column_name_to_sdtype)\u001b[0m\n\u001b[1;32m    427\u001b[0m supported_sdtypes \u001b[39m=\u001b[39m []\n\u001b[1;32m    428\u001b[0m \u001b[39mif\u001b[39;00m current_transformer:\n\u001b[0;32m--> 429\u001b[0m     supported_sdtypes \u001b[39m=\u001b[39m current_transformer\u001b[39m.\u001b[39;49mget_supported_sdtypes()\n\u001b[1;32m    431\u001b[0m \u001b[39mif\u001b[39;00m sdtype \u001b[39mnot\u001b[39;00m \u001b[39min\u001b[39;00m supported_sdtypes:\n\u001b[1;32m    432\u001b[0m     warnings\u001b[39m.\u001b[39mwarn(\n\u001b[1;32m    433\u001b[0m         \u001b[39mf\u001b[39m\u001b[39m\"\u001b[39m\u001b[39mSdtype \u001b[39m\u001b[39m'\u001b[39m\u001b[39m{\u001b[39;00msdtype\u001b[39m}\u001b[39;00m\u001b[39m'\u001b[39m\u001b[39m is incompatible with transformer \u001b[39m\u001b[39m\"\u001b[39m\n\u001b[1;32m    434\u001b[0m         \u001b[39mf\u001b[39m\u001b[39m\"\u001b[39m\u001b[39m'\u001b[39m\u001b[39m{\u001b[39;00mcurrent_transformer\u001b[39m.\u001b[39mget_name()\u001b[39m}\u001b[39;00m\u001b[39m'\u001b[39m\u001b[39m. Assigning a new transformer to it.\u001b[39m\u001b[39m\"\u001b[39m\n\u001b[1;32m    435\u001b[0m     )\n",
      "\u001b[0;31mAttributeError\u001b[0m: 'str' object has no attribute 'get_supported_sdtypes'"
     ]
    }
   ],
   "source": [
    "ht = HyperTransformer()\n",
    "ht.field_sdtypes = {\n",
    "    'column1': 'categorical',\n",
    "    'column2': 'categorical',\n",
    "    'column3': 'boolean',\n",
    "    'column4': 'boolean'\n",
    "}\n",
    "ht.field_transformers = {\n",
    "    'column1': 'transformer',\n",
    "    ('column2', 'column3'): 'multi_column_transformer',\n",
    "    'column4': 'transformer'\n",
    "}\n",
    "ht._multi_column_fields = {\n",
    "    'column2': ('column2', 'column3'),\n",
    "    'column3': ('column2', 'column3')\n",
    "}\n",
    "\n",
    "# Run\n",
    "ht.update_sdtypes(column_name_to_sdtype={\n",
    "    'column1': 'boolean',\n",
    "    }\n",
    ")\n",
    "\n",
    "# Assert\n",
    "assert ht.field_transformers == {\n",
    "    'column1': 'transformer',\n",
    "    'column2': 'multi_column_transformer',\n",
    "    'column3': None,\n",
    "    'column4': None\n",
    "}"
   ]
  },
  {
   "cell_type": "code",
   "execution_count": null,
   "metadata": {},
   "outputs": [],
   "source": []
  },
  {
   "cell_type": "code",
   "execution_count": 4,
   "metadata": {},
   "outputs": [
    {
     "data": {
      "text/plain": [
       "{\n",
       "    \"sdtypes\": {\n",
       "        \"column1\": \"categorical\",\n",
       "        \"column2\": \"categorical\",\n",
       "        \"column3\": \"boolean\",\n",
       "        \"column4\": \"boolean\"\n",
       "    },\n",
       "    \"transformers\": {\n",
       "        \"column1\": \"'transformer'\",\n",
       "        \"column4\": None,\n",
       "        \"column2\": \"'multi_column_transformer'\",\n",
       "        \"column3\": None\n",
       "    }\n",
       "}"
      ]
     },
     "execution_count": 4,
     "metadata": {},
     "output_type": "execute_result"
    }
   ],
   "source": [
    "ht.get_config()"
   ]
  },
  {
   "cell_type": "code",
   "execution_count": 13,
   "metadata": {},
   "outputs": [],
   "source": [
    "\"\"\"Test ``remove_transformer_by_sdtype`` with multi column transformer.\"\"\"\n",
    "# Setup\n",
    "dict_config = {\n",
    "    'sdtypes': {\n",
    "        'A': 'categorical',\n",
    "        'B': 'categorical',\n",
    "        'C': 'boolean',\n",
    "        'D': 'categorical',\n",
    "        'E': 'categorical'\n",
    "    },\n",
    "    'transformers': {\n",
    "        'A': UniformEncoder(),\n",
    "        ('B', 'C', 'D'): DummyMultiColumnTransformerNumerical(),\n",
    "        'E': UniformEncoder()\n",
    "    }\n",
    "}\n",
    "\n",
    "config = Config(dict_config)\n",
    "ht = HyperTransformer()\n",
    "ht.set_config(config)\n",
    "\n",
    "# Run\n",
    "ht.update_sdtypes({\n",
    "    'C': 'numerical',\n",
    "    'A': 'numerical'\n",
    "})\n",
    "new_config = ht.get_config()\n",
    "\n",
    "# Assert\n",
    "expected_config = Config({\n",
    "    'sdtypes': {\n",
    "        'A': 'numerical',\n",
    "        'B': 'categorical',\n",
    "        'C': 'numerical',\n",
    "        'D': 'categorical',\n",
    "        'E': 'categorical'\n",
    "    },\n",
    "    'transformers': {\n",
    "        'A': FloatFormatter(),\n",
    "        'E': UniformEncoder(),\n",
    "        \"('B', 'D')\": DummyMultiColumnTransformerNumerical(),\n",
    "        'C': FloatFormatter()\n",
    "    }\n",
    "})\n",
    "\n",
    "assert repr(new_config) == repr(expected_config)"
   ]
  },
  {
   "cell_type": "code",
   "execution_count": 14,
   "metadata": {},
   "outputs": [
    {
     "data": {
      "text/plain": [
       "{\n",
       "    \"sdtypes\": {\n",
       "        \"A\": \"numerical\",\n",
       "        \"B\": \"categorical\",\n",
       "        \"C\": \"numerical\",\n",
       "        \"D\": \"categorical\",\n",
       "        \"E\": \"categorical\"\n",
       "    },\n",
       "    \"transformers\": {\n",
       "        \"A\": FloatFormatter(),\n",
       "        \"E\": UniformEncoder(),\n",
       "        \"('B', 'D')\": DummyMultiColumnTransformerNumerical(),\n",
       "        \"C\": FloatFormatter()\n",
       "    }\n",
       "}"
      ]
     },
     "execution_count": 14,
     "metadata": {},
     "output_type": "execute_result"
    }
   ],
   "source": [
    "new_config"
   ]
  },
  {
   "cell_type": "code",
   "execution_count": 15,
   "metadata": {},
   "outputs": [],
   "source": [
    "class DummyMultiColumnTransformer(BaseMultiColumnTransformer):\n",
    "    \"\"\"Dummy multi column transformer.\"\"\"\n",
    "\n",
    "    SUPPORTED_SDTYPES = ['categorical', 'boolean']\n",
    "\n",
    "\n",
    "ht = HyperTransformer()\n",
    "ht.field_sdtypes = {\n",
    "    'column1': 'categorical',\n",
    "    'column2': 'categorical',\n",
    "    'column3': 'categorical',\n",
    "    'column4': 'categorical'\n",
    "}\n",
    "ht.field_transformers = {\n",
    "    'column1': UniformEncoder(),\n",
    "    ('column2', 'column3'): DummyMultiColumnTransformer(),\n",
    "    'column4': None\n",
    "}\n",
    "ht._multi_column_fields = {\n",
    "    'column2': ('column2', 'column3'),\n",
    "    'column3': ('column2', 'column3')\n",
    "}\n",
    "\n",
    "# Run\n",
    "ht.update_sdtypes(column_name_to_sdtype = {\n",
    "    'column2': 'boolean',\n",
    "    'column1': 'boolean'}\n",
    ")"
   ]
  },
  {
   "cell_type": "code",
   "execution_count": 16,
   "metadata": {},
   "outputs": [
    {
     "data": {
      "text/plain": [
       "{\n",
       "    \"sdtypes\": {\n",
       "        \"column1\": \"boolean\",\n",
       "        \"column2\": \"boolean\",\n",
       "        \"column3\": \"categorical\",\n",
       "        \"column4\": \"categorical\"\n",
       "    },\n",
       "    \"transformers\": {\n",
       "        \"column1\": UniformEncoder(),\n",
       "        \"('column2', 'column3')\": DummyMultiColumnTransformer(),\n",
       "        \"column4\": None\n",
       "    }\n",
       "}"
      ]
     },
     "execution_count": 16,
     "metadata": {},
     "output_type": "execute_result"
    }
   ],
   "source": [
    "ht.get_config()"
   ]
  },
  {
   "cell_type": "code",
   "execution_count": 26,
   "metadata": {},
   "outputs": [],
   "source": [
    "import pytest\n",
    "class DummyMultiColumnTransformer(BaseMultiColumnTransformer):\n",
    "    \"\"\"Dummy multi column transformer.\"\"\"\n",
    "\n",
    "    SUPPORTED_SDTYPES = ['categorical', 'boolean']\n",
    "\n",
    "\n",
    "ht = HyperTransformer()\n",
    "ht.field_sdtypes = {\n",
    "    'column1': 'categorical',\n",
    "    'column2': 'categorical',\n",
    "    'column3': 'categorical',\n",
    "    'column4': 'categorical'\n",
    "}\n",
    "ht.field_transformers = {\n",
    "    'column1': UniformEncoder(),\n",
    "    ('column2', 'column3'): DummyMultiColumnTransformer(),\n",
    "    'column4': None\n",
    "}\n",
    "ht._multi_column_fields = {\n",
    "    'column2': ('column2', 'column3'),\n",
    "    'column3': ('column2', 'column3')\n",
    "}\n",
    "\n",
    "# Run\n",
    "expected_warning = (\n",
    "    \"Sdtype 'numerical' is incompatible with transformer 'DummyMultiColumnTransformer'. Assigning a new transformer to it.\"\n",
    ")\n",
    "with pytest.warns(UserWarning, match=expected_warning):\n",
    "    ht.update_sdtypes(column_name_to_sdtype = {\n",
    "        'column2': 'numerical',\n",
    "        'column1': 'boolean'}\n",
    "    )\n",
    "\n",
    "# Assert\n",
    "expected_field_sdtypes = {\n",
    "    'column1': 'boolean',\n",
    "    'column2': 'numerical',\n",
    "    'column3': 'categorical',\n",
    "    'column4': 'categorical'\n",
    "}\n",
    "expected_field_transformers = {\n",
    "    'column1': UniformEncoder(),\n",
    "    'column4': None,\n",
    "    'column3': DummyMultiColumnTransformer(),\n",
    "    'column2': FloatFormatter(),\n",
    "}\n",
    "assert ht.field_sdtypes == expected_field_sdtypes\n",
    "assert str(ht.field_transformers) == str(expected_field_transformers)"
   ]
  },
  {
   "cell_type": "code",
   "execution_count": 24,
   "metadata": {},
   "outputs": [
    {
     "data": {
      "text/plain": [
       "\"{'column1': UniformEncoder(), 'column4': None, 'column3': DummyMultiColumnTransformer(), 'column2': FloatFormatter()}\""
      ]
     },
     "execution_count": 24,
     "metadata": {},
     "output_type": "execute_result"
    }
   ],
   "source": [
    "str(ht.field_transformers)"
   ]
  },
  {
   "cell_type": "code",
   "execution_count": 25,
   "metadata": {},
   "outputs": [
    {
     "data": {
      "text/plain": [
       "\"{'column1': UniformEncoder(), 'column4': None, 'column2': FloatFormatter(), 'column3': DummyMultiColumnTransformer()}\""
      ]
     },
     "execution_count": 25,
     "metadata": {},
     "output_type": "execute_result"
    }
   ],
   "source": [
    "str(expected_field_transformers)"
   ]
  },
  {
   "cell_type": "code",
   "execution_count": 19,
   "metadata": {},
   "outputs": [
    {
     "data": {
      "text/plain": [
       "{'column1': 'boolean',\n",
       " 'column2': 'numerical',\n",
       " 'column3': 'categorical',\n",
       " 'column4': 'categorical'}"
      ]
     },
     "execution_count": 19,
     "metadata": {},
     "output_type": "execute_result"
    }
   ],
   "source": [
    "ht.field_sdtypes"
   ]
  },
  {
   "cell_type": "code",
   "execution_count": 30,
   "metadata": {},
   "outputs": [
    {
     "data": {
      "text/plain": [
       "[dtype('int64'), dtype('int64'), dtype('int64')]"
      ]
     },
     "execution_count": 30,
     "metadata": {},
     "output_type": "execute_result"
    }
   ],
   "source": [
    "transformer.dtypes"
   ]
  },
  {
   "cell_type": "code",
   "execution_count": 29,
   "metadata": {},
   "outputs": [
    {
     "ename": "TypeError",
     "evalue": "Field elements must be 2- or 3-tuples, got 'dtype('int64')'",
     "output_type": "error",
     "traceback": [
      "\u001b[0;31m---------------------------------------------------------------------------\u001b[0m",
      "\u001b[0;31mTypeError\u001b[0m                                 Traceback (most recent call last)",
      "Cell \u001b[0;32mIn[29], line 36\u001b[0m\n\u001b[1;32m     34\u001b[0m \u001b[39m# Run\u001b[39;00m\n\u001b[1;32m     35\u001b[0m transformed \u001b[39m=\u001b[39m transformer\u001b[39m.\u001b[39mfit_transform(data_test, order_columns)\n\u001b[0;32m---> 36\u001b[0m reverse \u001b[39m=\u001b[39m transformer\u001b[39m.\u001b[39;49mreverse_transform(transformed)\n",
      "File \u001b[0;32m~/Desktop/RDT/rdt/transformers/base.py:55\u001b[0m, in \u001b[0;36mrandom_state.<locals>.wrapper\u001b[0;34m(self, *args, **kwargs)\u001b[0m\n\u001b[1;32m     53\u001b[0m method_name \u001b[39m=\u001b[39m function\u001b[39m.\u001b[39m\u001b[39m__name__\u001b[39m\n\u001b[1;32m     54\u001b[0m \u001b[39mwith\u001b[39;00m set_random_states(\u001b[39mself\u001b[39m\u001b[39m.\u001b[39mrandom_states, method_name, \u001b[39mself\u001b[39m\u001b[39m.\u001b[39mset_random_state):\n\u001b[0;32m---> 55\u001b[0m     \u001b[39mreturn\u001b[39;00m function(\u001b[39mself\u001b[39;49m, \u001b[39m*\u001b[39;49margs, \u001b[39m*\u001b[39;49m\u001b[39m*\u001b[39;49mkwargs)\n",
      "File \u001b[0;32m~/Desktop/RDT/rdt/transformers/base.py:477\u001b[0m, in \u001b[0;36mBaseTransformer.reverse_transform\u001b[0;34m(self, data)\u001b[0m\n\u001b[1;32m    475\u001b[0m data \u001b[39m=\u001b[39m data\u001b[39m.\u001b[39mcopy()\n\u001b[1;32m    476\u001b[0m columns_data \u001b[39m=\u001b[39m \u001b[39mself\u001b[39m\u001b[39m.\u001b[39m_get_columns_data(data, \u001b[39mself\u001b[39m\u001b[39m.\u001b[39moutput_columns)\n\u001b[0;32m--> 477\u001b[0m reversed_data \u001b[39m=\u001b[39m \u001b[39mself\u001b[39;49m\u001b[39m.\u001b[39;49m_reverse_transform(columns_data)\n\u001b[1;32m    478\u001b[0m data \u001b[39m=\u001b[39m data\u001b[39m.\u001b[39mdrop(\u001b[39mself\u001b[39m\u001b[39m.\u001b[39moutput_columns, axis\u001b[39m=\u001b[39m\u001b[39m1\u001b[39m)\n\u001b[1;32m    479\u001b[0m data \u001b[39m=\u001b[39m \u001b[39mself\u001b[39m\u001b[39m.\u001b[39m_add_columns_to_data(data, reversed_data, \u001b[39mself\u001b[39m\u001b[39m.\u001b[39mcolumns)\n",
      "Cell \u001b[0;32mIn[29], line 23\u001b[0m, in \u001b[0;36mAdditionTransformer._reverse_transform\u001b[0;34m(self, data)\u001b[0m\n\u001b[1;32m     20\u001b[0m result \u001b[39m=\u001b[39m data\u001b[39m.\u001b[39mdiff(axis\u001b[39m=\u001b[39m\u001b[39m1\u001b[39m)\n\u001b[1;32m     21\u001b[0m result\u001b[39m.\u001b[39miloc[:, \u001b[39m0\u001b[39m] \u001b[39m=\u001b[39m data\u001b[39m.\u001b[39miloc[:, \u001b[39m0\u001b[39m]\n\u001b[0;32m---> 23\u001b[0m \u001b[39mreturn\u001b[39;00m result\u001b[39m.\u001b[39;49mastype(\u001b[39mself\u001b[39;49m\u001b[39m.\u001b[39;49mdtypes)\n",
      "File \u001b[0;32m~/miniconda3/envs/rdt_38/lib/python3.8/site-packages/pandas/core/generic.py:5546\u001b[0m, in \u001b[0;36mNDFrame.astype\u001b[0;34m(self, dtype, copy, errors)\u001b[0m\n\u001b[1;32m   5539\u001b[0m     results \u001b[39m=\u001b[39m [\n\u001b[1;32m   5540\u001b[0m         \u001b[39mself\u001b[39m\u001b[39m.\u001b[39miloc[:, i]\u001b[39m.\u001b[39mastype(dtype, copy\u001b[39m=\u001b[39mcopy)\n\u001b[1;32m   5541\u001b[0m         \u001b[39mfor\u001b[39;00m i \u001b[39min\u001b[39;00m \u001b[39mrange\u001b[39m(\u001b[39mlen\u001b[39m(\u001b[39mself\u001b[39m\u001b[39m.\u001b[39mcolumns))\n\u001b[1;32m   5542\u001b[0m     ]\n\u001b[1;32m   5544\u001b[0m \u001b[39melse\u001b[39;00m:\n\u001b[1;32m   5545\u001b[0m     \u001b[39m# else, only a single dtype is given\u001b[39;00m\n\u001b[0;32m-> 5546\u001b[0m     new_data \u001b[39m=\u001b[39m \u001b[39mself\u001b[39;49m\u001b[39m.\u001b[39;49m_mgr\u001b[39m.\u001b[39;49mastype(dtype\u001b[39m=\u001b[39;49mdtype, copy\u001b[39m=\u001b[39;49mcopy, errors\u001b[39m=\u001b[39;49merrors,)\n\u001b[1;32m   5547\u001b[0m     \u001b[39mreturn\u001b[39;00m \u001b[39mself\u001b[39m\u001b[39m.\u001b[39m_constructor(new_data)\u001b[39m.\u001b[39m__finalize__(\u001b[39mself\u001b[39m, method\u001b[39m=\u001b[39m\u001b[39m\"\u001b[39m\u001b[39mastype\u001b[39m\u001b[39m\"\u001b[39m)\n\u001b[1;32m   5549\u001b[0m \u001b[39m# GH 33113: handle empty frame or series\u001b[39;00m\n",
      "File \u001b[0;32m~/miniconda3/envs/rdt_38/lib/python3.8/site-packages/pandas/core/internals/managers.py:595\u001b[0m, in \u001b[0;36mBlockManager.astype\u001b[0;34m(self, dtype, copy, errors)\u001b[0m\n\u001b[1;32m    592\u001b[0m \u001b[39mdef\u001b[39;00m \u001b[39mastype\u001b[39m(\n\u001b[1;32m    593\u001b[0m     \u001b[39mself\u001b[39m, dtype, copy: \u001b[39mbool\u001b[39m \u001b[39m=\u001b[39m \u001b[39mFalse\u001b[39;00m, errors: \u001b[39mstr\u001b[39m \u001b[39m=\u001b[39m \u001b[39m\"\u001b[39m\u001b[39mraise\u001b[39m\u001b[39m\"\u001b[39m\n\u001b[1;32m    594\u001b[0m ) \u001b[39m-\u001b[39m\u001b[39m>\u001b[39m \u001b[39m\"\u001b[39m\u001b[39mBlockManager\u001b[39m\u001b[39m\"\u001b[39m:\n\u001b[0;32m--> 595\u001b[0m     \u001b[39mreturn\u001b[39;00m \u001b[39mself\u001b[39;49m\u001b[39m.\u001b[39;49mapply(\u001b[39m\"\u001b[39;49m\u001b[39mastype\u001b[39;49m\u001b[39m\"\u001b[39;49m, dtype\u001b[39m=\u001b[39;49mdtype, copy\u001b[39m=\u001b[39;49mcopy, errors\u001b[39m=\u001b[39;49merrors)\n",
      "File \u001b[0;32m~/miniconda3/envs/rdt_38/lib/python3.8/site-packages/pandas/core/internals/managers.py:406\u001b[0m, in \u001b[0;36mBlockManager.apply\u001b[0;34m(self, f, align_keys, **kwargs)\u001b[0m\n\u001b[1;32m    404\u001b[0m         applied \u001b[39m=\u001b[39m b\u001b[39m.\u001b[39mapply(f, \u001b[39m*\u001b[39m\u001b[39m*\u001b[39mkwargs)\n\u001b[1;32m    405\u001b[0m     \u001b[39melse\u001b[39;00m:\n\u001b[0;32m--> 406\u001b[0m         applied \u001b[39m=\u001b[39m \u001b[39mgetattr\u001b[39;49m(b, f)(\u001b[39m*\u001b[39;49m\u001b[39m*\u001b[39;49mkwargs)\n\u001b[1;32m    407\u001b[0m     result_blocks \u001b[39m=\u001b[39m _extend_blocks(applied, result_blocks)\n\u001b[1;32m    409\u001b[0m \u001b[39mif\u001b[39;00m \u001b[39mlen\u001b[39m(result_blocks) \u001b[39m==\u001b[39m \u001b[39m0\u001b[39m:\n",
      "File \u001b[0;32m~/miniconda3/envs/rdt_38/lib/python3.8/site-packages/pandas/core/internals/blocks.py:548\u001b[0m, in \u001b[0;36mBlock.astype\u001b[0;34m(self, dtype, copy, errors)\u001b[0m\n\u001b[1;32m    545\u001b[0m     \u001b[39mraise\u001b[39;00m \u001b[39mTypeError\u001b[39;00m(msg)\n\u001b[1;32m    547\u001b[0m \u001b[39mif\u001b[39;00m dtype \u001b[39mis\u001b[39;00m \u001b[39mnot\u001b[39;00m \u001b[39mNone\u001b[39;00m:\n\u001b[0;32m--> 548\u001b[0m     dtype \u001b[39m=\u001b[39m pandas_dtype(dtype)\n\u001b[1;32m    550\u001b[0m \u001b[39m# may need to convert to categorical\u001b[39;00m\n\u001b[1;32m    551\u001b[0m \u001b[39mif\u001b[39;00m is_categorical_dtype(dtype):\n",
      "File \u001b[0;32m~/miniconda3/envs/rdt_38/lib/python3.8/site-packages/pandas/core/dtypes/common.py:1763\u001b[0m, in \u001b[0;36mpandas_dtype\u001b[0;34m(dtype)\u001b[0m\n\u001b[1;32m   1760\u001b[0m \u001b[39m# try a numpy dtype\u001b[39;00m\n\u001b[1;32m   1761\u001b[0m \u001b[39m# raise a consistent TypeError if failed\u001b[39;00m\n\u001b[1;32m   1762\u001b[0m \u001b[39mtry\u001b[39;00m:\n\u001b[0;32m-> 1763\u001b[0m     npdtype \u001b[39m=\u001b[39m np\u001b[39m.\u001b[39;49mdtype(dtype)\n\u001b[1;32m   1764\u001b[0m \u001b[39mexcept\u001b[39;00m \u001b[39mSyntaxError\u001b[39;00m \u001b[39mas\u001b[39;00m err:\n\u001b[1;32m   1765\u001b[0m     \u001b[39m# np.dtype uses `eval` which can raise SyntaxError\u001b[39;00m\n\u001b[1;32m   1766\u001b[0m     \u001b[39mraise\u001b[39;00m \u001b[39mTypeError\u001b[39;00m(\u001b[39mf\u001b[39m\u001b[39m\"\u001b[39m\u001b[39mdata type \u001b[39m\u001b[39m'\u001b[39m\u001b[39m{\u001b[39;00mdtype\u001b[39m}\u001b[39;00m\u001b[39m'\u001b[39m\u001b[39m not understood\u001b[39m\u001b[39m\"\u001b[39m) \u001b[39mfrom\u001b[39;00m \u001b[39merr\u001b[39;00m\n",
      "\u001b[0;31mTypeError\u001b[0m: Field elements must be 2- or 3-tuples, got 'dtype('int64')'"
     ]
    }
   ],
   "source": [
    "class AdditionTransformer(BaseMultiColumnTransformer):\n",
    "    \"\"\"This transformer takes 3 columns and return the cumulative sum of each row.\"\"\"\n",
    "    def _fit(self, columns_data, columns_to_sdtypess):\n",
    "        self.output_properties = {\n",
    "            column: {'sdtype': 'numerical'} for column in self.columns\n",
    "        }\n",
    "        self.dtypes = list(columns_data.dtypes)\n",
    "\n",
    "    def _generate_prefixes(self, data, ordered_columns):\n",
    "        prefixes = {}\n",
    "        for idx, column in enumerate(self.output_properties):\n",
    "            prefixes[column] = '#'.join(ordered_columns[:idx + 1])\n",
    "\n",
    "        return prefixes\n",
    "\n",
    "    def _transform(self, data):\n",
    "        return data.cumsum(axis=1)\n",
    "\n",
    "    def _reverse_transform(self, data):\n",
    "        result = data.diff(axis=1)\n",
    "        result.iloc[:, 0] = data.iloc[:, 0]\n",
    "\n",
    "        return result.astype(self.dtypes)\n",
    "\n",
    "data_test = pd.DataFrame({\n",
    "'col_1': [1, 2, 3],\n",
    "'col_2': [10, 20, 30],\n",
    "'col_3': [100, 200, 300]\n",
    "})\n",
    "\n",
    "order_columns = ('col_1', 'col_2', 'col_3')\n",
    "transformer = AdditionTransformer()\n",
    "\n",
    "# Run\n",
    "transformed = transformer.fit_transform(data_test, order_columns)\n",
    "reverse = transformer.reverse_transform(transformed)"
   ]
  },
  {
   "cell_type": "code",
   "execution_count": 31,
   "metadata": {},
   "outputs": [
    {
     "data": {
      "text/plain": [
       "['col_1.col_1', 'col_1#col_2.col_2', 'col_1#col_2#col_3.col_3']"
      ]
     },
     "execution_count": 31,
     "metadata": {},
     "output_type": "execute_result"
    }
   ],
   "source": [
    "transformer.output_columns"
   ]
  },
  {
   "cell_type": "code",
   "execution_count": 27,
   "metadata": {},
   "outputs": [
    {
     "data": {
      "text/plain": [
       "col_1    object\n",
       "col_2    object\n",
       "col_3    object\n",
       "dtype: object"
      ]
     },
     "execution_count": 27,
     "metadata": {},
     "output_type": "execute_result"
    }
   ],
   "source": [
    "reverse.dtypes"
   ]
  },
  {
   "cell_type": "code",
   "execution_count": 19,
   "metadata": {},
   "outputs": [
    {
     "data": {
      "text/plain": [
       "array([dtype('int64'), dtype('int64'), dtype('int64')], dtype=object)"
      ]
     },
     "execution_count": 19,
     "metadata": {},
     "output_type": "execute_result"
    }
   ],
   "source": [
    "transformer.dtypes.values"
   ]
  },
  {
   "cell_type": "code",
   "execution_count": 11,
   "metadata": {},
   "outputs": [
    {
     "data": {
      "text/plain": [
       "['col_1.col_1', 'col_1#col_2.col_2', 'col_1#col_2#col_3.col_3']"
      ]
     },
     "execution_count": 11,
     "metadata": {},
     "output_type": "execute_result"
    }
   ],
   "source": [
    "transformer.output_columns"
   ]
  },
  {
   "cell_type": "code",
   "execution_count": 16,
   "metadata": {},
   "outputs": [],
   "source": [
    "t = transformer._get_columns_data(transformed, transformer.output_columns)"
   ]
  },
  {
   "cell_type": "code",
   "execution_count": 17,
   "metadata": {},
   "outputs": [
    {
     "ename": "KeyError",
     "evalue": "'Only a column name can be used for the key in a dtype mappings argument.'",
     "output_type": "error",
     "traceback": [
      "\u001b[0;31m---------------------------------------------------------------------------\u001b[0m",
      "\u001b[0;31mKeyError\u001b[0m                                  Traceback (most recent call last)",
      "\u001b[0;32m/var/folders/11/c0g2cslx5jj5dnhdvxm9xk080000gn/T/ipykernel_73370/80304031.py\u001b[0m in \u001b[0;36m?\u001b[0;34m()\u001b[0m\n\u001b[0;32m----> 1\u001b[0;31m \u001b[0mtransformer\u001b[0m\u001b[0;34m.\u001b[0m\u001b[0m_reverse_transform\u001b[0m\u001b[0;34m(\u001b[0m\u001b[0mt\u001b[0m\u001b[0;34m)\u001b[0m\u001b[0;34m\u001b[0m\u001b[0;34m\u001b[0m\u001b[0m\n\u001b[0m",
      "\u001b[0;32m/var/folders/11/c0g2cslx5jj5dnhdvxm9xk080000gn/T/ipykernel_73370/3395363881.py\u001b[0m in \u001b[0;36m?\u001b[0;34m(self, data)\u001b[0m\n\u001b[1;32m     19\u001b[0m     \u001b[0;32mdef\u001b[0m \u001b[0m_reverse_transform\u001b[0m\u001b[0;34m(\u001b[0m\u001b[0mself\u001b[0m\u001b[0;34m,\u001b[0m \u001b[0mdata\u001b[0m\u001b[0;34m)\u001b[0m\u001b[0;34m:\u001b[0m\u001b[0;34m\u001b[0m\u001b[0;34m\u001b[0m\u001b[0m\n\u001b[1;32m     20\u001b[0m         \u001b[0mresult\u001b[0m \u001b[0;34m=\u001b[0m \u001b[0mdata\u001b[0m\u001b[0;34m.\u001b[0m\u001b[0mdiff\u001b[0m\u001b[0;34m(\u001b[0m\u001b[0maxis\u001b[0m\u001b[0;34m=\u001b[0m\u001b[0;36m1\u001b[0m\u001b[0;34m)\u001b[0m\u001b[0;34m\u001b[0m\u001b[0;34m\u001b[0m\u001b[0m\n\u001b[1;32m     21\u001b[0m         \u001b[0mresult\u001b[0m\u001b[0;34m.\u001b[0m\u001b[0miloc\u001b[0m\u001b[0;34m[\u001b[0m\u001b[0;34m:\u001b[0m\u001b[0;34m,\u001b[0m \u001b[0;36m0\u001b[0m\u001b[0;34m]\u001b[0m \u001b[0;34m=\u001b[0m \u001b[0mdata\u001b[0m\u001b[0;34m.\u001b[0m\u001b[0miloc\u001b[0m\u001b[0;34m[\u001b[0m\u001b[0;34m:\u001b[0m\u001b[0;34m,\u001b[0m \u001b[0;36m0\u001b[0m\u001b[0;34m]\u001b[0m\u001b[0;34m\u001b[0m\u001b[0;34m\u001b[0m\u001b[0m\n\u001b[1;32m     22\u001b[0m \u001b[0;34m\u001b[0m\u001b[0m\n\u001b[0;32m---> 23\u001b[0;31m         \u001b[0;32mreturn\u001b[0m \u001b[0mresult\u001b[0m\u001b[0;34m.\u001b[0m\u001b[0mastype\u001b[0m\u001b[0;34m(\u001b[0m\u001b[0mself\u001b[0m\u001b[0;34m.\u001b[0m\u001b[0mdtypes\u001b[0m\u001b[0;34m)\u001b[0m\u001b[0;34m\u001b[0m\u001b[0;34m\u001b[0m\u001b[0m\n\u001b[0m",
      "\u001b[0;32m~/miniconda3/envs/rdt_38/lib/python3.8/site-packages/pandas/core/generic.py\u001b[0m in \u001b[0;36m?\u001b[0;34m(self, dtype, copy, errors)\u001b[0m\n\u001b[1;32m   5519\u001b[0m                 \u001b[0;32mreturn\u001b[0m \u001b[0mself\u001b[0m\u001b[0;34m.\u001b[0m\u001b[0mastype\u001b[0m\u001b[0;34m(\u001b[0m\u001b[0mnew_type\u001b[0m\u001b[0;34m,\u001b[0m \u001b[0mcopy\u001b[0m\u001b[0;34m,\u001b[0m \u001b[0merrors\u001b[0m\u001b[0;34m)\u001b[0m\u001b[0;34m\u001b[0m\u001b[0;34m\u001b[0m\u001b[0m\n\u001b[1;32m   5520\u001b[0m \u001b[0;34m\u001b[0m\u001b[0m\n\u001b[1;32m   5521\u001b[0m             \u001b[0;32mfor\u001b[0m \u001b[0mcol_name\u001b[0m \u001b[0;32min\u001b[0m \u001b[0mdtype\u001b[0m\u001b[0;34m.\u001b[0m\u001b[0mkeys\u001b[0m\u001b[0;34m(\u001b[0m\u001b[0;34m)\u001b[0m\u001b[0;34m:\u001b[0m\u001b[0;34m\u001b[0m\u001b[0;34m\u001b[0m\u001b[0m\n\u001b[1;32m   5522\u001b[0m                 \u001b[0;32mif\u001b[0m \u001b[0mcol_name\u001b[0m \u001b[0;32mnot\u001b[0m \u001b[0;32min\u001b[0m \u001b[0mself\u001b[0m\u001b[0;34m:\u001b[0m\u001b[0;34m\u001b[0m\u001b[0;34m\u001b[0m\u001b[0m\n\u001b[0;32m-> 5523\u001b[0;31m                     raise KeyError(\n\u001b[0m\u001b[1;32m   5524\u001b[0m                         \u001b[0;34m\"Only a column name can be used for the \"\u001b[0m\u001b[0;34m\u001b[0m\u001b[0;34m\u001b[0m\u001b[0m\n\u001b[1;32m   5525\u001b[0m                         \u001b[0;34m\"key in a dtype mappings argument.\"\u001b[0m\u001b[0;34m\u001b[0m\u001b[0;34m\u001b[0m\u001b[0m\n\u001b[1;32m   5526\u001b[0m                     )\n",
      "\u001b[0;31mKeyError\u001b[0m: 'Only a column name can be used for the key in a dtype mappings argument.'"
     ]
    }
   ],
   "source": [
    "transformer._reverse_transform(t)"
   ]
  },
  {
   "cell_type": "code",
   "execution_count": 8,
   "metadata": {},
   "outputs": [
    {
     "data": {
      "text/html": [
       "<div>\n",
       "<style scoped>\n",
       "    .dataframe tbody tr th:only-of-type {\n",
       "        vertical-align: middle;\n",
       "    }\n",
       "\n",
       "    .dataframe tbody tr th {\n",
       "        vertical-align: top;\n",
       "    }\n",
       "\n",
       "    .dataframe thead th {\n",
       "        text-align: right;\n",
       "    }\n",
       "</style>\n",
       "<table border=\"1\" class=\"dataframe\">\n",
       "  <thead>\n",
       "    <tr style=\"text-align: right;\">\n",
       "      <th></th>\n",
       "      <th>col_1.col_1</th>\n",
       "      <th>col_1#col_2.col_2</th>\n",
       "      <th>col_1#col_2#col_3.col_3</th>\n",
       "    </tr>\n",
       "  </thead>\n",
       "  <tbody>\n",
       "    <tr>\n",
       "      <th>0</th>\n",
       "      <td>1</td>\n",
       "      <td>11</td>\n",
       "      <td>111</td>\n",
       "    </tr>\n",
       "    <tr>\n",
       "      <th>1</th>\n",
       "      <td>2</td>\n",
       "      <td>22</td>\n",
       "      <td>222</td>\n",
       "    </tr>\n",
       "    <tr>\n",
       "      <th>2</th>\n",
       "      <td>3</td>\n",
       "      <td>33</td>\n",
       "      <td>333</td>\n",
       "    </tr>\n",
       "  </tbody>\n",
       "</table>\n",
       "</div>"
      ],
      "text/plain": [
       "   col_1.col_1  col_1#col_2.col_2  col_1#col_2#col_3.col_3\n",
       "0            1                 11                      111\n",
       "1            2                 22                      222\n",
       "2            3                 33                      333"
      ]
     },
     "execution_count": 8,
     "metadata": {},
     "output_type": "execute_result"
    }
   ],
   "source": [
    "transformed"
   ]
  },
  {
   "cell_type": "code",
   "execution_count": 6,
   "metadata": {},
   "outputs": [],
   "source": [
    "import pandas as pd\n",
    "import numpy as np\n",
    "from rdt.transformers import UniformEncoder, BaseMultiColumnTransformer\n",
    "from rdt.hyper_transformer import Config, HyperTransformer\n",
    "\n",
    "class DummyMultiColumnTransformerNumerical(BaseMultiColumnTransformer):\n",
    "    \"\"\"Multi column transformer that takes categorical data.\"\"\"\n",
    "\n",
    "    SUPPORTED_SDTYPES = ['categorical', 'boolean']\n",
    "\n",
    "    def _fit(self, data, ordered_columns):\n",
    "        self.output_properties = {\n",
    "            column: {\n",
    "                'sdtype': 'numerical',\n",
    "                'next_transformer': None\n",
    "            } for column in self.columns\n",
    "        }\n",
    "\n",
    "    def _generate_prefixes(self, ordered_columns):\n",
    "        prefixes = {column: column for column in self.output_properties}\n",
    "        return prefixes\n",
    "\n",
    "    def _transform(self, data):\n",
    "        return data.astype(float)\n",
    "\n",
    "    def _reverse_transform(self, data):\n",
    "        return data.astype(str)\n",
    "\n",
    "dict_config = {\n",
    "    'sdtypes': {\n",
    "        'A': 'categorical',\n",
    "        'B': 'categorical',\n",
    "        'C': 'boolean'\n",
    "    },\n",
    "    'transformers': {\n",
    "        'A': None,\n",
    "        'B': UniformEncoder(),\n",
    "        'C': UniformEncoder()\n",
    "    }\n",
    "}\n",
    "config = Config(dict_config)\n",
    "ht = HyperTransformer()\n",
    "ht.set_config(config)\n",
    "\n",
    "# Run\n",
    "ht.update_transformers({\n",
    "    ('A', 'B'): DummyMultiColumnTransformerNumerical(),\n",
    "})\n",
    "new_config = ht.get_config()\n",
    "\n",
    "# Assert\n",
    "expected_config = Config({\n",
    "    'sdtypes': {\n",
    "        'A': 'categorical',\n",
    "        'B': 'categorical',\n",
    "        'C': 'boolean'\n",
    "    },\n",
    "    'transformers': {\n",
    "        'C': UniformEncoder(),\n",
    "        \"('A', 'B')\": DummyMultiColumnTransformerNumerical()\n",
    "    }\n",
    "})\n",
    "\n",
    "assert repr(new_config) == repr(expected_config)"
   ]
  },
  {
   "cell_type": "code",
   "execution_count": 8,
   "metadata": {},
   "outputs": [],
   "source": [
    "data_test = pd.DataFrame({\n",
    "    'A': ['1', '2', '3'],\n",
    "    'B': ['4', '5', '6'],\n",
    "    'C': [True, False, True]\n",
    "})\n",
    "transformed = ht.fit_transform(data_test)"
   ]
  },
  {
   "cell_type": "code",
   "execution_count": 14,
   "metadata": {},
   "outputs": [
    {
     "data": {
      "text/plain": [
       "{'C': {0: 0.5225768219566304, 1: 0.7797813625043645, 2: 0.31881544039752413},\n",
       " 'A.A': {0: 1.0, 1: 2.0, 2: 3.0},\n",
       " 'B.B': {0: 4.0, 1: 5.0, 2: 6.0}}"
      ]
     },
     "execution_count": 14,
     "metadata": {},
     "output_type": "execute_result"
    }
   ],
   "source": [
    "transformed.to_dict()"
   ]
  },
  {
   "cell_type": "code",
   "execution_count": 10,
   "metadata": {},
   "outputs": [],
   "source": [
    "rt = ht.reverse_transform(transformed)"
   ]
  },
  {
   "cell_type": "code",
   "execution_count": 11,
   "metadata": {},
   "outputs": [
    {
     "data": {
      "text/plain": [
       "A    object\n",
       "B    object\n",
       "C      bool\n",
       "dtype: object"
      ]
     },
     "execution_count": 11,
     "metadata": {},
     "output_type": "execute_result"
    }
   ],
   "source": [
    "rt.dtypes"
   ]
  }
 ],
 "metadata": {
  "kernelspec": {
   "display_name": "issue-675-idgenerator-transformer",
   "language": "python",
   "name": "python3"
  },
  "language_info": {
   "codemirror_mode": {
    "name": "ipython",
    "version": 3
   },
   "file_extension": ".py",
   "mimetype": "text/x-python",
   "name": "python",
   "nbconvert_exporter": "python",
   "pygments_lexer": "ipython3",
   "version": "3.8.17"
  },
  "orig_nbformat": 4
 },
 "nbformat": 4,
 "nbformat_minor": 2
}
