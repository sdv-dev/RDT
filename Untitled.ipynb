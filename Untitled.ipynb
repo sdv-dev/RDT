{
 "cells": [
  {
   "cell_type": "code",
   "execution_count": 16,
   "id": "f68e6070",
   "metadata": {},
   "outputs": [
    {
     "name": "stdout",
     "output_type": "stream",
     "text": [
      "Requirement already satisfied: line_profiler in /Users/fealho/opt/anaconda3/envs/bla/lib/python3.8/site-packages (3.3.1)\n",
      "Requirement already satisfied: IPython>=0.13 in /Users/fealho/opt/anaconda3/envs/bla/lib/python3.8/site-packages (from line_profiler) (7.30.1)\n",
      "Requirement already satisfied: pexpect>4.3 in /Users/fealho/opt/anaconda3/envs/bla/lib/python3.8/site-packages (from IPython>=0.13->line_profiler) (4.8.0)\n",
      "Requirement already satisfied: pygments in /Users/fealho/opt/anaconda3/envs/bla/lib/python3.8/site-packages (from IPython>=0.13->line_profiler) (2.10.0)\n",
      "Requirement already satisfied: matplotlib-inline in /Users/fealho/opt/anaconda3/envs/bla/lib/python3.8/site-packages (from IPython>=0.13->line_profiler) (0.1.3)\n",
      "Requirement already satisfied: prompt-toolkit!=3.0.0,!=3.0.1,<3.1.0,>=2.0.0 in /Users/fealho/opt/anaconda3/envs/bla/lib/python3.8/site-packages (from IPython>=0.13->line_profiler) (3.0.24)\n",
      "Requirement already satisfied: backcall in /Users/fealho/opt/anaconda3/envs/bla/lib/python3.8/site-packages (from IPython>=0.13->line_profiler) (0.2.0)\n",
      "Requirement already satisfied: setuptools>=18.5 in /Users/fealho/opt/anaconda3/envs/bla/lib/python3.8/site-packages (from IPython>=0.13->line_profiler) (58.0.4)\n",
      "Requirement already satisfied: appnope in /Users/fealho/opt/anaconda3/envs/bla/lib/python3.8/site-packages (from IPython>=0.13->line_profiler) (0.1.2)\n",
      "Requirement already satisfied: jedi>=0.16 in /Users/fealho/opt/anaconda3/envs/bla/lib/python3.8/site-packages (from IPython>=0.13->line_profiler) (0.18.1)\n",
      "Requirement already satisfied: decorator in /Users/fealho/opt/anaconda3/envs/bla/lib/python3.8/site-packages (from IPython>=0.13->line_profiler) (5.1.0)\n",
      "Requirement already satisfied: traitlets>=4.2 in /Users/fealho/opt/anaconda3/envs/bla/lib/python3.8/site-packages (from IPython>=0.13->line_profiler) (5.1.1)\n",
      "Requirement already satisfied: pickleshare in /Users/fealho/opt/anaconda3/envs/bla/lib/python3.8/site-packages (from IPython>=0.13->line_profiler) (0.7.5)\n",
      "Requirement already satisfied: parso<0.9.0,>=0.8.0 in /Users/fealho/opt/anaconda3/envs/bla/lib/python3.8/site-packages (from jedi>=0.16->IPython>=0.13->line_profiler) (0.8.3)\n",
      "Requirement already satisfied: ptyprocess>=0.5 in /Users/fealho/opt/anaconda3/envs/bla/lib/python3.8/site-packages (from pexpect>4.3->IPython>=0.13->line_profiler) (0.7.0)\n",
      "Requirement already satisfied: wcwidth in /Users/fealho/opt/anaconda3/envs/bla/lib/python3.8/site-packages (from prompt-toolkit!=3.0.0,!=3.0.1,<3.1.0,>=2.0.0->IPython>=0.13->line_profiler) (0.2.5)\n",
      "Note: you may need to restart the kernel to use updated packages.\n",
      "The line_profiler extension is already loaded. To reload it, use:\n",
      "  %reload_ext line_profiler\n"
     ]
    }
   ],
   "source": [
    "%pip install line_profiler\n",
    "import numpy as np\n",
    "import pandas as pd\n",
    "from line_profiler import LineProfiler\n",
    "%load_ext line_profiler\n",
    "\n",
    "from rdt.transformers.numerical import BayesGMMTransformer, NumericalTransformer\n",
    "\n",
    "def generate_data():\n",
    "    data1 = np.random.normal(loc=5, scale=1, size=100000)\n",
    "    data2 = np.random.normal(loc=-5, scale=1, size=100000)\n",
    "    data = np.concatenate([data1, data2])\n",
    "    return pd.DataFrame(data, columns=['col'])"
   ]
  },
  {
   "cell_type": "code",
   "execution_count": 18,
   "id": "5fbb5b14",
   "metadata": {},
   "outputs": [],
   "source": [
    "data = generate_data()\n",
    "bgmm_transformer = BayesGMMTransformer()\n",
    "import rdt.transformers\n",
    "%lprun -m rdt.transformers bgmm_transformer.fit(data, list(data.columns))"
   ]
  },
  {
   "cell_type": "code",
   "execution_count": 21,
   "id": "435627c3",
   "metadata": {},
   "outputs": [],
   "source": [
    "transformed = bgmm_transformer.transform(data)"
   ]
  },
  {
   "cell_type": "code",
   "execution_count": 22,
   "id": "68a6f6fe",
   "metadata": {},
   "outputs": [],
   "source": [
    "%lprun -m rdt.transformers bgmm_transformer.reverse_transform(transformed)"
   ]
  },
  {
   "cell_type": "code",
   "execution_count": null,
   "id": "2869b155",
   "metadata": {},
   "outputs": [],
   "source": []
  }
 ],
 "metadata": {
  "kernelspec": {
   "display_name": "Python 3 (ipykernel)",
   "language": "python",
   "name": "python3"
  },
  "language_info": {
   "codemirror_mode": {
    "name": "ipython",
    "version": 3
   },
   "file_extension": ".py",
   "mimetype": "text/x-python",
   "name": "python",
   "nbconvert_exporter": "python",
   "pygments_lexer": "ipython3",
   "version": "3.8.12"
  }
 },
 "nbformat": 4,
 "nbformat_minor": 5
}
