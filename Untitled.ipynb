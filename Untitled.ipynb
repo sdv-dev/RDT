{
 "cells": [
  {
   "cell_type": "code",
   "execution_count": 22,
   "id": "553cde55",
   "metadata": {},
   "outputs": [],
   "source": [
    "import numpy as np\n",
    "import pandas as pd\n"
   ]
  },
  {
   "cell_type": "code",
   "execution_count": 23,
   "id": "6f79d8a5",
   "metadata": {},
   "outputs": [
    {
     "data": {
      "text/plain": [
       "0    0.000000\n",
       "1    1.000000\n",
       "2    2.000000\n",
       "3    0.177976\n",
       "4    0.001280\n",
       "5    0.051855\n",
       "dtype: float64"
      ]
     },
     "execution_count": 23,
     "metadata": {},
     "output_type": "execute_result"
    }
   ],
   "source": [
    "data = [1, 'a', np.nan, 'd', 'd', 'd']\n",
    "categories_to_values = {1: 0, 'a': 1, np.nan: 2}\n",
    "data = pd.Series(data).map(categories_to_values)\n",
    "data = data.apply(lambda x: np.random.random() if pd.isna(x) else x)\n",
    "data\n"
   ]
  },
  {
   "cell_type": "code",
   "execution_count": 24,
   "id": "fe26cee7",
   "metadata": {},
   "outputs": [
    {
     "data": {
      "text/plain": [
       "0    2\n",
       "1    0\n",
       "2    0\n",
       "3    1\n",
       "4    1\n",
       "5    2\n",
       "dtype: int64"
      ]
     },
     "execution_count": 24,
     "metadata": {},
     "output_type": "execute_result"
    }
   ],
   "source": [
    "map_function = lambda x: categories_to_values.get(x, np.random.randint(0, 3))\n",
    "pd.Series(data).map(map_function, na_action='ignore')"
   ]
  },
  {
   "cell_type": "code",
   "execution_count": 31,
   "id": "ce252297",
   "metadata": {},
   "outputs": [
    {
     "data": {
      "text/plain": [
       "'tnoehu'"
      ]
     },
     "execution_count": 31,
     "metadata": {},
     "output_type": "execute_result"
    }
   ],
   "source": [
    "d = {'a': 2, np.nan: 1, float('nan'):3}\n",
    "d.get(float('nan'), 'tnoehu')"
   ]
  },
  {
   "cell_type": "code",
   "execution_count": null,
   "id": "72ccdea2",
   "metadata": {},
   "outputs": [],
   "source": []
  }
 ],
 "metadata": {
  "kernelspec": {
   "display_name": "Python 3 (ipykernel)",
   "language": "python",
   "name": "python3"
  },
  "language_info": {
   "codemirror_mode": {
    "name": "ipython",
    "version": 3
   },
   "file_extension": ".py",
   "mimetype": "text/x-python",
   "name": "python",
   "nbconvert_exporter": "python",
   "pygments_lexer": "ipython3",
   "version": "3.8.12"
  }
 },
 "nbformat": 4,
 "nbformat_minor": 5
}
