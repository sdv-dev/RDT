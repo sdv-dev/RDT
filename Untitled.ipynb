{
 "cells": [
  {
   "cell_type": "code",
   "execution_count": 8,
   "id": "0752198a",
   "metadata": {},
   "outputs": [
    {
     "name": "stdout",
     "output_type": "stream",
     "text": [
      "   col2.value  col1.value\n",
      "0           1         1.0\n",
      "1           2         0.0\n",
      "2           3         0.0\n"
     ]
    }
   ],
   "source": [
    "import\n",
    "\n",
    "from rdt import HyperTransformer\n",
    "import pandas as pd\n",
    "data = pd.DataFrame({'col2': [1, 2, 3], 'col1': [True, False, False]})\n",
    "ht = HyperTransformer()\n",
    "ht.fit(data)\n",
    "print(ht.transform(data))"
   ]
  },
  {
   "cell_type": "code",
   "execution_count": 4,
   "id": "a91386cb",
   "metadata": {},
   "outputs": [
    {
     "name": "stdout",
     "output_type": "stream",
     "text": [
      "   a.value   b.value\n",
      "0        1  0.342723\n",
      "1        2  0.405646\n",
      "2        3  0.780218\n",
      "   a.value   b.value\n",
      "0        1  0.210370\n",
      "1        2  0.408851\n",
      "2        3  0.912269\n",
      "   a.value   b.value\n",
      "0        1  0.401094\n",
      "1        2  0.244906\n",
      "2        3  0.893944\n",
      "   a       b\n",
      "0  1   ntohu\n",
      "1  2   ntohu\n",
      "2  3  tnhoeu\n",
      "   a       b\n",
      "0  1   ntohu\n",
      "1  2   ntohu\n",
      "2  3  tnhoeu\n",
      "   a       b\n",
      "0  1   ntohu\n",
      "1  2   ntohu\n",
      "2  3  tnhoeu\n"
     ]
    }
   ],
   "source": [
    "from rdt import HyperTransformer\n",
    "import pandas as pd\n",
    "\n",
    "data = pd.DataFrame({'a': [1,2,3], 'b': ['ntohu', 'ntohu', 'tnhoeu']})\n",
    "new_data = pd.DataFrame({'c': [1,2,3], 'd': ['ntohu', 'ntohu', 'tnhoeu']})\n",
    "other_data = pd.DataFrame({'a': [1,2,3], 'b': ['ntohu', 'ntohu', 'tnhoeu']})\n",
    "\n",
    "ht = HyperTransformer() # reverse_transform of the original data instead of transformed data should crash\n",
    "# bool don't correctly set the data types\n",
    "ht.fit(data)\n",
    "t1 = ht.transform(data)\n",
    "r1 = ht.reverse_transform(t1)\n",
    "ht.fit(data)\n",
    "t2 = ht.transform(data)\n",
    "r2 = ht.reverse_transform(t2)\n",
    "ht.fit(data)\n",
    "t3 = ht.transform(data)\n",
    "r3 = ht.reverse_transform(t3)\n",
    "print(t1)\n",
    "print(t2)\n",
    "print(t3)\n",
    "\n",
    "print(r1)\n",
    "print(r2)\n",
    "print(r3)"
   ]
  },
  {
   "cell_type": "code",
   "execution_count": 5,
   "id": "dcab02fa",
   "metadata": {
    "scrolled": true
   },
   "outputs": [
    {
     "name": "stdout",
     "output_type": "stream",
     "text": [
      "   a.value   b.value\n",
      "0        1  0.345358\n",
      "1        2  0.238762\n",
      "2        3  0.746257\n",
      "   a       b\n",
      "0  1   ntohu\n",
      "1  2   ntohu\n",
      "2  3  tnhoeu\n"
     ]
    }
   ],
   "source": [
    "data = pd.DataFrame({'a': [1,2,3], 'b': ['ntohu', 'ntohu', 'tnhoeu']})\n",
    "ht = HyperTransformer()\n",
    "ht.fit(data)\n",
    "t1 = ht.transform(data)\n",
    "r1 = ht.reverse_transform(t1)\n",
    "print(t1)\n",
    "print(r1)"
   ]
  },
  {
   "cell_type": "code",
   "execution_count": 8,
   "id": "cb79ef59",
   "metadata": {},
   "outputs": [
    {
     "data": {
      "text/html": [
       "<div>\n",
       "<style scoped>\n",
       "    .dataframe tbody tr th:only-of-type {\n",
       "        vertical-align: middle;\n",
       "    }\n",
       "\n",
       "    .dataframe tbody tr th {\n",
       "        vertical-align: top;\n",
       "    }\n",
       "\n",
       "    .dataframe thead th {\n",
       "        text-align: right;\n",
       "    }\n",
       "</style>\n",
       "<table border=\"1\" class=\"dataframe\">\n",
       "  <thead>\n",
       "    <tr style=\"text-align: right;\">\n",
       "      <th></th>\n",
       "      <th>a</th>\n",
       "      <th>c</th>\n",
       "      <th>a.value</th>\n",
       "      <th>c.value</th>\n",
       "    </tr>\n",
       "  </thead>\n",
       "  <tbody>\n",
       "    <tr>\n",
       "      <th>0</th>\n",
       "      <td>1</td>\n",
       "      <td>1</td>\n",
       "      <td>1</td>\n",
       "      <td>1</td>\n",
       "    </tr>\n",
       "    <tr>\n",
       "      <th>1</th>\n",
       "      <td>2</td>\n",
       "      <td>2</td>\n",
       "      <td>2</td>\n",
       "      <td>2</td>\n",
       "    </tr>\n",
       "    <tr>\n",
       "      <th>2</th>\n",
       "      <td>3</td>\n",
       "      <td>3</td>\n",
       "      <td>3</td>\n",
       "      <td>3</td>\n",
       "    </tr>\n",
       "  </tbody>\n",
       "</table>\n",
       "</div>"
      ],
      "text/plain": [
       "   a  c  a.value  c.value\n",
       "0  1  1        1        1\n",
       "1  2  2        2        2\n",
       "2  3  3        3        3"
      ]
     },
     "execution_count": 8,
     "metadata": {},
     "output_type": "execute_result"
    }
   ],
   "source": [
    "data = pd.DataFrame({'a': [1,2,3], 'c': [1, 2, 3]})  # the missing columns is not printing c, that's a different error\n",
    "new_data = pd.DataFrame({'b': [1,2,3]})\n",
    "ht = HyperTransformer()\n",
    "ht.fit(data)\n",
    "ht.fit(new_data)\n",
    "ht.transform(data)"
   ]
  },
  {
   "cell_type": "code",
   "execution_count": 28,
   "id": "83f168fd",
   "metadata": {},
   "outputs": [
    {
     "name": "stdout",
     "output_type": "stream",
     "text": [
      "   a.value  c.value\n",
      "0        1        1\n",
      "1        2        2\n",
      "2        3        3\n",
      "   a  c\n",
      "0  1  1\n",
      "1  2  2\n",
      "2  3  3\n"
     ]
    }
   ],
   "source": [
    "ht = HyperTransformer()\n",
    "ht.fit(data)\n",
    "ht.fit(data)\n",
    "ht.fit(data)\n",
    "t = ht.transform(data)\n",
    "r = ht.reverse_transform(t)\n",
    "print(t)\n",
    "print(r)"
   ]
  },
  {
   "cell_type": "code",
   "execution_count": null,
   "id": "e51083c3",
   "metadata": {},
   "outputs": [],
   "source": []
  },
  {
   "cell_type": "code",
   "execution_count": 30,
   "id": "f189893b",
   "metadata": {},
   "outputs": [
    {
     "name": "stdout",
     "output_type": "stream",
     "text": [
      "   a.value   b.value\n",
      "0        1  0.351368\n",
      "1        2  0.400878\n",
      "2        3  0.809850\n",
      "   a       b\n",
      "0  1   ntohu\n",
      "1  2   ntohu\n",
      "2  3  tnhoeu\n"
     ]
    }
   ],
   "source": [
    "ht = HyperTransformer()\n",
    "ht.fit(data)\n",
    "ht.fit(other_data)\n",
    "t = ht.transform(other_data)\n",
    "r = ht.reverse_transform(t)\n",
    "print(t)\n",
    "print(r)"
   ]
  },
  {
   "cell_type": "code",
   "execution_count": null,
   "id": "ff92081e",
   "metadata": {},
   "outputs": [],
   "source": []
  }
 ],
 "metadata": {
  "kernelspec": {
   "display_name": "Python 3 (ipykernel)",
   "language": "python",
   "name": "python3"
  },
  "language_info": {
   "codemirror_mode": {
    "name": "ipython",
    "version": 3
   },
   "file_extension": ".py",
   "mimetype": "text/x-python",
   "name": "python",
   "nbconvert_exporter": "python",
   "pygments_lexer": "ipython3",
   "version": "3.8.12"
  }
 },
 "nbformat": 4,
 "nbformat_minor": 5
}
